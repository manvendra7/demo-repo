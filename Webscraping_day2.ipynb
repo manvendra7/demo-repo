{
  "nbformat": 4,
  "nbformat_minor": 0,
  "metadata": {
    "colab": {
      "name": "Webscraping-day2.ipynb",
      "provenance": [],
      "authorship_tag": "ABX9TyOnc76Ns3TxmLC5HE6ck6eK",
      "include_colab_link": true
    },
    "kernelspec": {
      "name": "python3",
      "display_name": "Python 3"
    },
    "language_info": {
      "name": "python"
    }
  },
  "cells": [
    {
      "cell_type": "markdown",
      "metadata": {
        "id": "view-in-github",
        "colab_type": "text"
      },
      "source": [
        "<a href=\"https://colab.research.google.com/github/manvendra7/demo-repo/blob/main/Webscraping_day2.ipynb\" target=\"_parent\"><img src=\"https://colab.research.google.com/assets/colab-badge.svg\" alt=\"Open In Colab\"/></a>"
      ]
    },
    {
      "cell_type": "code",
      "metadata": {
        "colab": {
          "base_uri": "https://localhost:8080/"
        },
        "id": "Lgu0DoTKhJFM",
        "outputId": "8f4fdcfd-503e-458f-e484-6b43d32ee458"
      },
      "source": [
        "#install packages requests and bs4\n",
        "!pip install requests"
      ],
      "execution_count": null,
      "outputs": [
        {
          "output_type": "stream",
          "text": [
            "Requirement already satisfied: requests in /usr/local/lib/python3.7/dist-packages (2.23.0)\n",
            "Requirement already satisfied: certifi>=2017.4.17 in /usr/local/lib/python3.7/dist-packages (from requests) (2021.5.30)\n",
            "Requirement already satisfied: chardet<4,>=3.0.2 in /usr/local/lib/python3.7/dist-packages (from requests) (3.0.4)\n",
            "Requirement already satisfied: idna<3,>=2.5 in /usr/local/lib/python3.7/dist-packages (from requests) (2.10)\n",
            "Requirement already satisfied: urllib3!=1.25.0,!=1.25.1,<1.26,>=1.21.1 in /usr/local/lib/python3.7/dist-packages (from requests) (1.24.3)\n"
          ],
          "name": "stdout"
        }
      ]
    },
    {
      "cell_type": "code",
      "metadata": {
        "colab": {
          "base_uri": "https://localhost:8080/"
        },
        "id": "04loGgP_hNYs",
        "outputId": "49778cd3-8fee-41b6-f013-e9873a02e0b3"
      },
      "source": [
        "!pip install bs4"
      ],
      "execution_count": null,
      "outputs": [
        {
          "output_type": "stream",
          "text": [
            "Requirement already satisfied: bs4 in /usr/local/lib/python3.7/dist-packages (0.0.1)\n",
            "Requirement already satisfied: beautifulsoup4 in /usr/local/lib/python3.7/dist-packages (from bs4) (4.6.3)\n"
          ],
          "name": "stdout"
        }
      ]
    },
    {
      "cell_type": "code",
      "metadata": {
        "id": "KI3BBodBhNeq"
      },
      "source": [
        "#import the requests and BeautifulSoup\n",
        "import requests\n",
        "from bs4 import BeautifulSoup"
      ],
      "execution_count": 4,
      "outputs": []
    },
    {
      "cell_type": "code",
      "metadata": {
        "id": "oUPUKMA3hNht"
      },
      "source": [
        "url = 'https://www.makaan.com/hyderabad-residential-property/buy-property-in-hyderabad-city'\n",
        "req = requests.get(url)\n",
        "soup = BeautifulSoup(req.text,'html')\n",
        "soup"
      ],
      "execution_count": null,
      "outputs": []
    },
    {
      "cell_type": "code",
      "metadata": {
        "colab": {
          "base_uri": "https://localhost:8080/"
        },
        "id": "Pv6YSKjpwSM9",
        "outputId": "6fb2236f-24a6-47cd-b32f-34d380f6cfa4"
      },
      "source": [
        "print(soup.find('td',attrs={'class':'lbl rate'}))"
      ],
      "execution_count": 10,
      "outputs": [
        {
          "output_type": "stream",
          "text": [
            "<td class=\"lbl rate\">5,400 / sq ft</td>\n"
          ],
          "name": "stdout"
        }
      ]
    },
    {
      "cell_type": "code",
      "metadata": {
        "id": "TU8eyzGawM_0"
      },
      "source": [
        "# #price_per_sqft\n",
        "# rate_tag=soup.find_all('td',attrs={'class':'1bl rate'})\n",
        "# rate = [r.text.strip() for r in rate_tag]\n",
        "# print(rate)\n"
      ],
      "execution_count": null,
      "outputs": []
    },
    {
      "cell_type": "code",
      "metadata": {
        "colab": {
          "base_uri": "https://localhost:8080/",
          "height": 35
        },
        "id": "14hsCenhhNkR",
        "outputId": "b167b017-fb46-43a4-9f41-ca9551b19890"
      },
      "source": [
        "soup.find('div',attrs={'data-type' : 'price-link'}).text"
      ],
      "execution_count": 11,
      "outputs": [
        {
          "output_type": "execute_result",
          "data": {
            "application/vnd.google.colaboratory.intrinsic+json": {
              "type": "string"
            },
            "text/plain": [
              "' 1.37 Cr'"
            ]
          },
          "metadata": {},
          "execution_count": 11
        }
      ]
    },
    {
      "cell_type": "code",
      "metadata": {
        "id": "l8mxeJiLhNtc"
      },
      "source": [
        "# price\n",
        "\n",
        "p_tag = soup.find_all('div',attrs={'data-type' : 'price-link'})\n",
        "\n",
        "price_1p = []\n",
        "\n",
        "for p in p_tag:\n",
        "  price_1p.append(p.text.strip())"
      ],
      "execution_count": null,
      "outputs": []
    },
    {
      "cell_type": "code",
      "metadata": {
        "colab": {
          "base_uri": "https://localhost:8080/"
        },
        "id": "sxBm1orNhNw1",
        "outputId": "fff93780-c46f-4b1c-97a7-4659b59e2bc1"
      },
      "source": [
        "print(price_1p)"
      ],
      "execution_count": null,
      "outputs": [
        {
          "output_type": "stream",
          "text": [
            "['1.37 Cr', '56.98 L', '65.48 L', '79.63 L', '99.58 L', '25.05 L', '43.6 L', '62.5 L', '96 L', '93.25 L', '6.06 Cr', '96.22 L', '56.02 L', '1.13 Cr', '52.58 L', '62.23 L', '73.33 L', '1.23 Cr', '45 L', '44.33 L']\n"
          ],
          "name": "stdout"
        }
      ]
    },
    {
      "cell_type": "code",
      "metadata": {
        "colab": {
          "base_uri": "https://localhost:8080/"
        },
        "id": "Km-cq7iyhN2a",
        "outputId": "1e5db860-9f87-4691-e503-3014a0879b7d"
      },
      "source": [
        "len(price_1p)"
      ],
      "execution_count": null,
      "outputs": [
        {
          "output_type": "execute_result",
          "data": {
            "text/plain": [
              "20"
            ]
          },
          "metadata": {},
          "execution_count": 17
        }
      ]
    },
    {
      "cell_type": "code",
      "metadata": {
        "colab": {
          "base_uri": "https://localhost:8080/",
          "height": 35
        },
        "id": "PPJtSC6fhN5a",
        "outputId": "8e7c9ae1-0cdd-46aa-9c30-49757549f063"
      },
      "source": [
        ""
      ],
      "execution_count": null,
      "outputs": [
        {
          "output_type": "execute_result",
          "data": {
            "application/vnd.google.colaboratory.intrinsic+json": {
              "type": "string"
            },
            "text/plain": [
              "'       python        '"
            ]
          },
          "metadata": {},
          "execution_count": 19
        }
      ]
    },
    {
      "cell_type": "code",
      "metadata": {
        "colab": {
          "base_uri": "https://localhost:8080/"
        },
        "id": "qGEnRTkqhN8e",
        "outputId": "0acb90ce-091e-488b-9f49-ebac89727c0c"
      },
      "source": [
        "price_com = [p.text.strip() for p in p_tag]\n",
        "price_com"
      ],
      "execution_count": null,
      "outputs": [
        {
          "output_type": "execute_result",
          "data": {
            "text/plain": [
              "['1.37 Cr',\n",
              " '56.98 L',\n",
              " '65.48 L',\n",
              " '79.63 L',\n",
              " '99.58 L',\n",
              " '25.05 L',\n",
              " '43.6 L',\n",
              " '62.5 L',\n",
              " '96 L',\n",
              " '93.25 L',\n",
              " '6.06 Cr',\n",
              " '96.22 L',\n",
              " '56.02 L',\n",
              " '1.13 Cr',\n",
              " '52.58 L',\n",
              " '62.23 L',\n",
              " '73.33 L',\n",
              " '1.23 Cr',\n",
              " '45 L',\n",
              " '44.33 L']"
            ]
          },
          "metadata": {},
          "execution_count": 22
        }
      ]
    },
    {
      "cell_type": "code",
      "metadata": {
        "colab": {
          "base_uri": "https://localhost:8080/",
          "height": 246
        },
        "id": "eH9gfcZst86e",
        "outputId": "217097a6-ad70-4627-b0ed-b8db7eb1eb0d"
      },
      "source": [
        "from IPython.display import clear_output\n",
        "import time\n",
        "for i in range(50):\n",
        "  time.sleep(1.5)\n",
        "  clear_output(wait=True)\n",
        "  print(i)"
      ],
      "execution_count": 2,
      "outputs": [
        {
          "output_type": "stream",
          "text": [
            "33\n"
          ],
          "name": "stdout"
        },
        {
          "output_type": "error",
          "ename": "KeyboardInterrupt",
          "evalue": "ignored",
          "traceback": [
            "\u001b[0;31m---------------------------------------------------------------------------\u001b[0m",
            "\u001b[0;31mKeyboardInterrupt\u001b[0m                         Traceback (most recent call last)",
            "\u001b[0;32m<ipython-input-2-dbb64703b97f>\u001b[0m in \u001b[0;36m<module>\u001b[0;34m()\u001b[0m\n\u001b[1;32m      2\u001b[0m \u001b[0;32mimport\u001b[0m \u001b[0mtime\u001b[0m\u001b[0;34m\u001b[0m\u001b[0;34m\u001b[0m\u001b[0m\n\u001b[1;32m      3\u001b[0m \u001b[0;32mfor\u001b[0m \u001b[0mi\u001b[0m \u001b[0;32min\u001b[0m \u001b[0mrange\u001b[0m\u001b[0;34m(\u001b[0m\u001b[0;36m50\u001b[0m\u001b[0;34m)\u001b[0m\u001b[0;34m:\u001b[0m\u001b[0;34m\u001b[0m\u001b[0;34m\u001b[0m\u001b[0m\n\u001b[0;32m----> 4\u001b[0;31m   \u001b[0mtime\u001b[0m\u001b[0;34m.\u001b[0m\u001b[0msleep\u001b[0m\u001b[0;34m(\u001b[0m\u001b[0;36m1.5\u001b[0m\u001b[0;34m)\u001b[0m\u001b[0;34m\u001b[0m\u001b[0;34m\u001b[0m\u001b[0m\n\u001b[0m\u001b[1;32m      5\u001b[0m   \u001b[0mclear_output\u001b[0m\u001b[0;34m(\u001b[0m\u001b[0mwait\u001b[0m\u001b[0;34m=\u001b[0m\u001b[0;32mTrue\u001b[0m\u001b[0;34m)\u001b[0m\u001b[0;34m\u001b[0m\u001b[0;34m\u001b[0m\u001b[0m\n\u001b[1;32m      6\u001b[0m   \u001b[0mprint\u001b[0m\u001b[0;34m(\u001b[0m\u001b[0mi\u001b[0m\u001b[0;34m)\u001b[0m\u001b[0;34m\u001b[0m\u001b[0;34m\u001b[0m\u001b[0m\n",
            "\u001b[0;31mKeyboardInterrupt\u001b[0m: "
          ]
        }
      ]
    },
    {
      "cell_type": "code",
      "metadata": {
        "colab": {
          "base_uri": "https://localhost:8080/"
        },
        "id": "DhoXoX8js3lk",
        "outputId": "e16deb7f-1832-438e-aa3d-d5c37e8b07ba"
      },
      "source": [
        "# number of bhk\n",
        "bhk = soup.find('a',attrs={'class':'typelink','target':'_blank'})\n",
        "# n_bhk = []\n",
        "# for b in prop:\n",
        "#   n_bhk.append(b.span.text.strip())\n",
        "# print(n_bhk)\n",
        "print(bhk.prettify())"
      ],
      "execution_count": 4,
      "outputs": [
        {
          "output_type": "stream",
          "text": [
            "<a class=\"typelink\" data-type=\"listing-link\" href=\"https://www.makaan.com/hyderabad/om-sree-builders-heights-in-yapral-15896080/3bhk-2545-sqft-apartment\" itemprop=\"url\" target=\"_blank\">\n",
            " <meta content=\"3 BHK Apartment for sale\" id=\"itemNameFor-15896080\" itemprop=\"name\"/>\n",
            " <strong>\n",
            "  <span class=\"val\">\n",
            "   3\n",
            "  </span>\n",
            "  <span>\n",
            "   BHK\n",
            "  </span>\n",
            "  <span>\n",
            "   Apartment\n",
            "  </span>\n",
            " </strong>\n",
            "</a>\n",
            "\n"
          ],
          "name": "stdout"
        }
      ]
    },
    {
      "cell_type": "code",
      "metadata": {
        "colab": {
          "base_uri": "https://localhost:8080/",
          "height": 35
        },
        "id": "LfPiPjwftkGz",
        "outputId": "6762b48e-efda-4104-e21f-ea0226b7f95c"
      },
      "source": [
        "bhk.span.text"
      ],
      "execution_count": 8,
      "outputs": [
        {
          "output_type": "execute_result",
          "data": {
            "application/vnd.google.colaboratory.intrinsic+json": {
              "type": "string"
            },
            "text/plain": [
              "'3 '"
            ]
          },
          "metadata": {},
          "execution_count": 8
        }
      ]
    },
    {
      "cell_type": "code",
      "metadata": {
        "colab": {
          "base_uri": "https://localhost:8080/"
        },
        "id": "lXF701t4hN_X",
        "outputId": "ee053082-aba6-4214-afa9-b0c94e75c924"
      },
      "source": [
        "# number of bhk\n",
        "prop=soup.find_all('a',attrs={'class':'typelink','target':'_blank'})\n",
        "n_bhk = []\n",
        "for b in prop:\n",
        "  n_bhk.append(b.span.text.strip())\n",
        "print(n_bhk)\n"
      ],
      "execution_count": null,
      "outputs": [
        {
          "output_type": "stream",
          "text": [
            "['3', '2', '2', '3', '3', 'Residential Plot', '2', '2', '2', '3', '4', '3', '2', '3', '2', '2', '3', '3', 'Residential Plot', '2']\n"
          ],
          "name": "stdout"
        }
      ]
    },
    {
      "cell_type": "code",
      "metadata": {
        "colab": {
          "base_uri": "https://localhost:8080/"
        },
        "id": "Wz4iJ0rAhODm",
        "outputId": "b03df41c-69fa-4646-d290-9f90ed1bf741"
      },
      "source": [
        "# area in sqft\n",
        "a_tag = soup.find_all('td', attrs ={'class':'size'})\n",
        "area = []\n",
        "\n",
        "for a in a_tag:\n",
        "  area.append(a.text.strip())\n",
        "print(area)"
      ],
      "execution_count": null,
      "outputs": [
        {
          "output_type": "stream",
          "text": [
            "['2545', '1295', '1310', '1593', '1510', '1503', '890', '1250', '1173', '1636', '3567', '1415', '1245', '2105', '1195', '1245', '1467', '1875', '2700', '905']\n"
          ],
          "name": "stdout"
        }
      ]
    },
    {
      "cell_type": "code",
      "metadata": {
        "colab": {
          "base_uri": "https://localhost:8080/"
        },
        "id": "gqaQMf1jhOHe",
        "outputId": "cea3c428-dad3-4045-b600-e6067d6e7c53"
      },
      "source": [
        "# locality\n",
        "l_tag=soup.find_all('a',attrs={'class':'loclink'})\n",
        "loc = []\n",
        "for l in l_tag:\n",
        "  loc.append(l.text.strip())\n",
        "print(loc)\n"
      ],
      "execution_count": null,
      "outputs": [
        {
          "output_type": "stream",
          "text": [
            "['Yapral, Hyderabad', 'Bachupally, Hyderabad', 'Kompally, Hyderabad', 'Mallampet, Hyderabad', 'Narsingi, Hyderabad', 'Thimmapur, Hyderabad', 'Shamshabad, Hyderabad', 'Sangareddy, Hyderabad', 'Attapur, Hyderabad', 'Manikonda, Hyderabad', 'Narsingi, Hyderabad', 'Nanakramguda, Hyderabad', 'Ghatkesar, Hyderabad', 'Yapral, Hyderabad', 'Bachupally, Hyderabad', 'Kompally, Hyderabad', 'Mallampet, Hyderabad', 'Narsingi, Hyderabad', 'Thimmapur, Hyderabad', 'Shamshabad, Hyderabad']\n"
          ],
          "name": "stdout"
        }
      ]
    },
    {
      "cell_type": "code",
      "metadata": {
        "colab": {
          "base_uri": "https://localhost:8080/"
        },
        "id": "tvNCbD1nhOKX",
        "outputId": "9b21bc81-f55f-4f01-bdc3-dd6b4efd0125"
      },
      "source": [
        "# price_per_sqft\n",
        "\n",
        "rate_tag=soup.find_all('td',attrs={'class':'lbl rate'})\n",
        "\n",
        "rate=[r.text.strip() for r in rate_tag]\n",
        "print(rate)\n"
      ],
      "execution_count": null,
      "outputs": [
        {
          "output_type": "stream",
          "text": [
            "['5,400 / sq ft', '4,400 / sq ft', '4,999 / sq ft', '4,999 / sq ft', '6,595 / sq ft', '1,667 / sq ft', '4,899 / sq ft', '5,000 / sq ft', '8,184 / sq ft', '5,700 / sq ft', '17,000 / sq ft', '6,800 / sq ft', '4,500 / sq ft', '5,400 / sq ft', '4,400 / sq ft', '4,999 / sq ft', '4,999 / sq ft', '6,595 / sq ft', '1,667 / sq ft', '4,899 / sq ft']\n"
          ],
          "name": "stdout"
        }
      ]
    },
    {
      "cell_type": "code",
      "metadata": {
        "colab": {
          "base_uri": "https://localhost:8080/"
        },
        "id": "BlJn3ZfqhOOT",
        "outputId": "c44ca767-9cf0-412e-cd09-767932908ede"
      },
      "source": [
        "status_tag=soup.find_all('td',attrs={'class':'val'})\n",
        "status = []\n",
        "for s in status_tag:\n",
        "  status.append(s.text.strip())\n",
        "print(status)\n"
      ],
      "execution_count": null,
      "outputs": [
        {
          "output_type": "stream",
          "text": [
            "['Under Construction', 'Under Construction', 'Under Construction', 'Under Construction', 'Under Construction', 'New', 'Under Construction', 'Under Construction', 'Under Construction', 'Ready to move', 'Under Construction', 'Ready to move', 'Under Construction', 'Under Construction', 'Under Construction', 'Under Construction', 'Under Construction', 'Under Construction', 'New', 'Under Construction']\n"
          ],
          "name": "stdout"
        }
      ]
    },
    {
      "cell_type": "code",
      "metadata": {
        "colab": {
          "base_uri": "https://localhost:8080/"
        },
        "id": "6J27cNoShOaA",
        "outputId": "4dfa4e77-27bc-4560-989d-caf21e146670"
      },
      "source": [
        "len(status)"
      ],
      "execution_count": null,
      "outputs": [
        {
          "output_type": "execute_result",
          "data": {
            "text/plain": [
              "20"
            ]
          },
          "metadata": {},
          "execution_count": 30
        }
      ]
    },
    {
      "cell_type": "code",
      "metadata": {
        "colab": {
          "base_uri": "https://localhost:8080/"
        },
        "id": "1A1RUtAq-SQi",
        "outputId": "da8c12f8-4951-4285-b4ac-578b47181be4"
      },
      "source": [
        "len(rate)"
      ],
      "execution_count": null,
      "outputs": [
        {
          "output_type": "execute_result",
          "data": {
            "text/plain": [
              "20"
            ]
          },
          "metadata": {},
          "execution_count": 31
        }
      ]
    },
    {
      "cell_type": "code",
      "metadata": {
        "colab": {
          "base_uri": "https://localhost:8080/"
        },
        "id": "-GfRrE3t-VT4",
        "outputId": "08dbe961-075b-4ed7-c7b0-a73cba7d10ce"
      },
      "source": [
        "# status,rate,price_1p,loc,area,n_bhk\n",
        "print(price_1p)\n",
        "print(rate)\n",
        "print(area)\n",
        "print(n_bhk)\n",
        "print(loc)\n",
        "print(status)"
      ],
      "execution_count": null,
      "outputs": [
        {
          "output_type": "stream",
          "text": [
            "['1.37 Cr', '56.98 L', '65.48 L', '79.63 L', '99.58 L', '25.05 L', '43.6 L', '62.5 L', '96 L', '93.25 L', '6.06 Cr', '96.22 L', '56.02 L', '1.13 Cr', '52.58 L', '62.23 L', '73.33 L', '1.23 Cr', '45 L', '44.33 L']\n",
            "['5,400 / sq ft', '4,400 / sq ft', '4,999 / sq ft', '4,999 / sq ft', '6,595 / sq ft', '1,667 / sq ft', '4,899 / sq ft', '5,000 / sq ft', '8,184 / sq ft', '5,700 / sq ft', '17,000 / sq ft', '6,800 / sq ft', '4,500 / sq ft', '5,400 / sq ft', '4,400 / sq ft', '4,999 / sq ft', '4,999 / sq ft', '6,595 / sq ft', '1,667 / sq ft', '4,899 / sq ft']\n",
            "['2545', '1295', '1310', '1593', '1510', '1503', '890', '1250', '1173', '1636', '3567', '1415', '1245', '2105', '1195', '1245', '1467', '1875', '2700', '905']\n",
            "['3', '2', '2', '3', '3', 'Residential Plot', '2', '2', '2', '3', '4', '3', '2', '3', '2', '2', '3', '3', 'Residential Plot', '2']\n",
            "['Yapral, Hyderabad', 'Bachupally, Hyderabad', 'Kompally, Hyderabad', 'Mallampet, Hyderabad', 'Narsingi, Hyderabad', 'Thimmapur, Hyderabad', 'Shamshabad, Hyderabad', 'Sangareddy, Hyderabad', 'Attapur, Hyderabad', 'Manikonda, Hyderabad', 'Narsingi, Hyderabad', 'Nanakramguda, Hyderabad', 'Ghatkesar, Hyderabad', 'Yapral, Hyderabad', 'Bachupally, Hyderabad', 'Kompally, Hyderabad', 'Mallampet, Hyderabad', 'Narsingi, Hyderabad', 'Thimmapur, Hyderabad', 'Shamshabad, Hyderabad']\n",
            "['Under Construction', 'Under Construction', 'Under Construction', 'Under Construction', 'Under Construction', 'New', 'Under Construction', 'Under Construction', 'Under Construction', 'Ready to move', 'Under Construction', 'Ready to move', 'Under Construction', 'Under Construction', 'Under Construction', 'Under Construction', 'Under Construction', 'Under Construction', 'New', 'Under Construction']\n"
          ],
          "name": "stdout"
        }
      ]
    },
    {
      "cell_type": "code",
      "metadata": {
        "colab": {
          "base_uri": "https://localhost:8080/"
        },
        "id": "zhTi4rMG_kJ3",
        "outputId": "011636c9-3716-44f7-8d7d-9ce3d98cbece"
      },
      "source": [
        "prop_info = {'Price' : price_1p,\n",
        "            'Rate_per_sqft' : rate,\n",
        "            'Area' : area,\n",
        "            'Num_Bhk' : n_bhk,\n",
        "            'Locality' : loc,\n",
        "            'Status' : status}\n",
        "print(prop_info)"
      ],
      "execution_count": null,
      "outputs": [
        {
          "output_type": "stream",
          "text": [
            "{'Price': ['1.37 Cr', '56.98 L', '65.48 L', '79.63 L', '99.58 L', '25.05 L', '43.6 L', '62.5 L', '96 L', '93.25 L', '6.06 Cr', '96.22 L', '56.02 L', '1.13 Cr', '52.58 L', '62.23 L', '73.33 L', '1.23 Cr', '45 L', '44.33 L'], 'Rate_per_sqft': ['5,400 / sq ft', '4,400 / sq ft', '4,999 / sq ft', '4,999 / sq ft', '6,595 / sq ft', '1,667 / sq ft', '4,899 / sq ft', '5,000 / sq ft', '8,184 / sq ft', '5,700 / sq ft', '17,000 / sq ft', '6,800 / sq ft', '4,500 / sq ft', '5,400 / sq ft', '4,400 / sq ft', '4,999 / sq ft', '4,999 / sq ft', '6,595 / sq ft', '1,667 / sq ft', '4,899 / sq ft'], 'Area': ['2545', '1295', '1310', '1593', '1510', '1503', '890', '1250', '1173', '1636', '3567', '1415', '1245', '2105', '1195', '1245', '1467', '1875', '2700', '905'], 'Num_Bhk': ['3', '2', '2', '3', '3', 'Residential Plot', '2', '2', '2', '3', '4', '3', '2', '3', '2', '2', '3', '3', 'Residential Plot', '2'], 'Locality': ['Yapral, Hyderabad', 'Bachupally, Hyderabad', 'Kompally, Hyderabad', 'Mallampet, Hyderabad', 'Narsingi, Hyderabad', 'Thimmapur, Hyderabad', 'Shamshabad, Hyderabad', 'Sangareddy, Hyderabad', 'Attapur, Hyderabad', 'Manikonda, Hyderabad', 'Narsingi, Hyderabad', 'Nanakramguda, Hyderabad', 'Ghatkesar, Hyderabad', 'Yapral, Hyderabad', 'Bachupally, Hyderabad', 'Kompally, Hyderabad', 'Mallampet, Hyderabad', 'Narsingi, Hyderabad', 'Thimmapur, Hyderabad', 'Shamshabad, Hyderabad'], 'Status': ['Under Construction', 'Under Construction', 'Under Construction', 'Under Construction', 'Under Construction', 'New', 'Under Construction', 'Under Construction', 'Under Construction', 'Ready to move', 'Under Construction', 'Ready to move', 'Under Construction', 'Under Construction', 'Under Construction', 'Under Construction', 'Under Construction', 'Under Construction', 'New', 'Under Construction']}\n"
          ],
          "name": "stdout"
        }
      ]
    },
    {
      "cell_type": "code",
      "metadata": {
        "colab": {
          "base_uri": "https://localhost:8080/",
          "height": 665
        },
        "id": "yGNGl6_R_CyS",
        "outputId": "24f12350-1de2-4b48-e8f6-12e4c7dba475"
      },
      "source": [
        "import pandas as pd\n",
        "pd.DataFrame(prop_info)"
      ],
      "execution_count": null,
      "outputs": [
        {
          "output_type": "execute_result",
          "data": {
            "text/html": [
              "<div>\n",
              "<style scoped>\n",
              "    .dataframe tbody tr th:only-of-type {\n",
              "        vertical-align: middle;\n",
              "    }\n",
              "\n",
              "    .dataframe tbody tr th {\n",
              "        vertical-align: top;\n",
              "    }\n",
              "\n",
              "    .dataframe thead th {\n",
              "        text-align: right;\n",
              "    }\n",
              "</style>\n",
              "<table border=\"1\" class=\"dataframe\">\n",
              "  <thead>\n",
              "    <tr style=\"text-align: right;\">\n",
              "      <th></th>\n",
              "      <th>Price</th>\n",
              "      <th>Rate_per_sqft</th>\n",
              "      <th>Area</th>\n",
              "      <th>Num_Bhk</th>\n",
              "      <th>Locality</th>\n",
              "      <th>Status</th>\n",
              "    </tr>\n",
              "  </thead>\n",
              "  <tbody>\n",
              "    <tr>\n",
              "      <th>0</th>\n",
              "      <td>1.37 Cr</td>\n",
              "      <td>5,400 / sq ft</td>\n",
              "      <td>2545</td>\n",
              "      <td>3</td>\n",
              "      <td>Yapral, Hyderabad</td>\n",
              "      <td>Under Construction</td>\n",
              "    </tr>\n",
              "    <tr>\n",
              "      <th>1</th>\n",
              "      <td>56.98 L</td>\n",
              "      <td>4,400 / sq ft</td>\n",
              "      <td>1295</td>\n",
              "      <td>2</td>\n",
              "      <td>Bachupally, Hyderabad</td>\n",
              "      <td>Under Construction</td>\n",
              "    </tr>\n",
              "    <tr>\n",
              "      <th>2</th>\n",
              "      <td>65.48 L</td>\n",
              "      <td>4,999 / sq ft</td>\n",
              "      <td>1310</td>\n",
              "      <td>2</td>\n",
              "      <td>Kompally, Hyderabad</td>\n",
              "      <td>Under Construction</td>\n",
              "    </tr>\n",
              "    <tr>\n",
              "      <th>3</th>\n",
              "      <td>79.63 L</td>\n",
              "      <td>4,999 / sq ft</td>\n",
              "      <td>1593</td>\n",
              "      <td>3</td>\n",
              "      <td>Mallampet, Hyderabad</td>\n",
              "      <td>Under Construction</td>\n",
              "    </tr>\n",
              "    <tr>\n",
              "      <th>4</th>\n",
              "      <td>99.58 L</td>\n",
              "      <td>6,595 / sq ft</td>\n",
              "      <td>1510</td>\n",
              "      <td>3</td>\n",
              "      <td>Narsingi, Hyderabad</td>\n",
              "      <td>Under Construction</td>\n",
              "    </tr>\n",
              "    <tr>\n",
              "      <th>5</th>\n",
              "      <td>25.05 L</td>\n",
              "      <td>1,667 / sq ft</td>\n",
              "      <td>1503</td>\n",
              "      <td>Residential Plot</td>\n",
              "      <td>Thimmapur, Hyderabad</td>\n",
              "      <td>New</td>\n",
              "    </tr>\n",
              "    <tr>\n",
              "      <th>6</th>\n",
              "      <td>43.6 L</td>\n",
              "      <td>4,899 / sq ft</td>\n",
              "      <td>890</td>\n",
              "      <td>2</td>\n",
              "      <td>Shamshabad, Hyderabad</td>\n",
              "      <td>Under Construction</td>\n",
              "    </tr>\n",
              "    <tr>\n",
              "      <th>7</th>\n",
              "      <td>62.5 L</td>\n",
              "      <td>5,000 / sq ft</td>\n",
              "      <td>1250</td>\n",
              "      <td>2</td>\n",
              "      <td>Sangareddy, Hyderabad</td>\n",
              "      <td>Under Construction</td>\n",
              "    </tr>\n",
              "    <tr>\n",
              "      <th>8</th>\n",
              "      <td>96 L</td>\n",
              "      <td>8,184 / sq ft</td>\n",
              "      <td>1173</td>\n",
              "      <td>2</td>\n",
              "      <td>Attapur, Hyderabad</td>\n",
              "      <td>Under Construction</td>\n",
              "    </tr>\n",
              "    <tr>\n",
              "      <th>9</th>\n",
              "      <td>93.25 L</td>\n",
              "      <td>5,700 / sq ft</td>\n",
              "      <td>1636</td>\n",
              "      <td>3</td>\n",
              "      <td>Manikonda, Hyderabad</td>\n",
              "      <td>Ready to move</td>\n",
              "    </tr>\n",
              "    <tr>\n",
              "      <th>10</th>\n",
              "      <td>6.06 Cr</td>\n",
              "      <td>17,000 / sq ft</td>\n",
              "      <td>3567</td>\n",
              "      <td>4</td>\n",
              "      <td>Narsingi, Hyderabad</td>\n",
              "      <td>Under Construction</td>\n",
              "    </tr>\n",
              "    <tr>\n",
              "      <th>11</th>\n",
              "      <td>96.22 L</td>\n",
              "      <td>6,800 / sq ft</td>\n",
              "      <td>1415</td>\n",
              "      <td>3</td>\n",
              "      <td>Nanakramguda, Hyderabad</td>\n",
              "      <td>Ready to move</td>\n",
              "    </tr>\n",
              "    <tr>\n",
              "      <th>12</th>\n",
              "      <td>56.02 L</td>\n",
              "      <td>4,500 / sq ft</td>\n",
              "      <td>1245</td>\n",
              "      <td>2</td>\n",
              "      <td>Ghatkesar, Hyderabad</td>\n",
              "      <td>Under Construction</td>\n",
              "    </tr>\n",
              "    <tr>\n",
              "      <th>13</th>\n",
              "      <td>1.13 Cr</td>\n",
              "      <td>5,400 / sq ft</td>\n",
              "      <td>2105</td>\n",
              "      <td>3</td>\n",
              "      <td>Yapral, Hyderabad</td>\n",
              "      <td>Under Construction</td>\n",
              "    </tr>\n",
              "    <tr>\n",
              "      <th>14</th>\n",
              "      <td>52.58 L</td>\n",
              "      <td>4,400 / sq ft</td>\n",
              "      <td>1195</td>\n",
              "      <td>2</td>\n",
              "      <td>Bachupally, Hyderabad</td>\n",
              "      <td>Under Construction</td>\n",
              "    </tr>\n",
              "    <tr>\n",
              "      <th>15</th>\n",
              "      <td>62.23 L</td>\n",
              "      <td>4,999 / sq ft</td>\n",
              "      <td>1245</td>\n",
              "      <td>2</td>\n",
              "      <td>Kompally, Hyderabad</td>\n",
              "      <td>Under Construction</td>\n",
              "    </tr>\n",
              "    <tr>\n",
              "      <th>16</th>\n",
              "      <td>73.33 L</td>\n",
              "      <td>4,999 / sq ft</td>\n",
              "      <td>1467</td>\n",
              "      <td>3</td>\n",
              "      <td>Mallampet, Hyderabad</td>\n",
              "      <td>Under Construction</td>\n",
              "    </tr>\n",
              "    <tr>\n",
              "      <th>17</th>\n",
              "      <td>1.23 Cr</td>\n",
              "      <td>6,595 / sq ft</td>\n",
              "      <td>1875</td>\n",
              "      <td>3</td>\n",
              "      <td>Narsingi, Hyderabad</td>\n",
              "      <td>Under Construction</td>\n",
              "    </tr>\n",
              "    <tr>\n",
              "      <th>18</th>\n",
              "      <td>45 L</td>\n",
              "      <td>1,667 / sq ft</td>\n",
              "      <td>2700</td>\n",
              "      <td>Residential Plot</td>\n",
              "      <td>Thimmapur, Hyderabad</td>\n",
              "      <td>New</td>\n",
              "    </tr>\n",
              "    <tr>\n",
              "      <th>19</th>\n",
              "      <td>44.33 L</td>\n",
              "      <td>4,899 / sq ft</td>\n",
              "      <td>905</td>\n",
              "      <td>2</td>\n",
              "      <td>Shamshabad, Hyderabad</td>\n",
              "      <td>Under Construction</td>\n",
              "    </tr>\n",
              "  </tbody>\n",
              "</table>\n",
              "</div>"
            ],
            "text/plain": [
              "      Price   Rate_per_sqft  ...                 Locality              Status\n",
              "0   1.37 Cr   5,400 / sq ft  ...        Yapral, Hyderabad  Under Construction\n",
              "1   56.98 L   4,400 / sq ft  ...    Bachupally, Hyderabad  Under Construction\n",
              "2   65.48 L   4,999 / sq ft  ...      Kompally, Hyderabad  Under Construction\n",
              "3   79.63 L   4,999 / sq ft  ...     Mallampet, Hyderabad  Under Construction\n",
              "4   99.58 L   6,595 / sq ft  ...      Narsingi, Hyderabad  Under Construction\n",
              "5   25.05 L   1,667 / sq ft  ...     Thimmapur, Hyderabad                 New\n",
              "6    43.6 L   4,899 / sq ft  ...    Shamshabad, Hyderabad  Under Construction\n",
              "7    62.5 L   5,000 / sq ft  ...    Sangareddy, Hyderabad  Under Construction\n",
              "8      96 L   8,184 / sq ft  ...       Attapur, Hyderabad  Under Construction\n",
              "9   93.25 L   5,700 / sq ft  ...     Manikonda, Hyderabad       Ready to move\n",
              "10  6.06 Cr  17,000 / sq ft  ...      Narsingi, Hyderabad  Under Construction\n",
              "11  96.22 L   6,800 / sq ft  ...  Nanakramguda, Hyderabad       Ready to move\n",
              "12  56.02 L   4,500 / sq ft  ...     Ghatkesar, Hyderabad  Under Construction\n",
              "13  1.13 Cr   5,400 / sq ft  ...        Yapral, Hyderabad  Under Construction\n",
              "14  52.58 L   4,400 / sq ft  ...    Bachupally, Hyderabad  Under Construction\n",
              "15  62.23 L   4,999 / sq ft  ...      Kompally, Hyderabad  Under Construction\n",
              "16  73.33 L   4,999 / sq ft  ...     Mallampet, Hyderabad  Under Construction\n",
              "17  1.23 Cr   6,595 / sq ft  ...      Narsingi, Hyderabad  Under Construction\n",
              "18     45 L   1,667 / sq ft  ...     Thimmapur, Hyderabad                 New\n",
              "19  44.33 L   4,899 / sq ft  ...    Shamshabad, Hyderabad  Under Construction\n",
              "\n",
              "[20 rows x 6 columns]"
            ]
          },
          "metadata": {},
          "execution_count": 37
        }
      ]
    },
    {
      "cell_type": "code",
      "metadata": {
        "colab": {
          "base_uri": "https://localhost:8080/"
        },
        "id": "IrNKJNPi_XuZ",
        "outputId": "f25656d2-0734-48d8-b45f-62f4a0c79234"
      },
      "source": [
        "import time\n",
        "from IPython.display import clear_output\n",
        "\n",
        "base_url = 'https://www.makaan.com/hyderabad-residential-property/buy-property-in-hyderabad-city?page='\n",
        "\n",
        "price = []\n",
        "n_bhk = []\n",
        "area = []\n",
        "loc = []\n",
        "rate_info = []\n",
        "status = []\n",
        "\n",
        "for i in range(1,26):\n",
        "\n",
        "  print(f'Going to scrape the data from the {i} page')\n",
        "  clear_output(wait=True)\n",
        "  time.sleep(2)\n",
        "\n",
        "  url = base_url+str(i)\n",
        "  # 'https://www.makaan.com/hyderabad-residential-property/buy-property-in-hyderabad-city?page=' \n",
        "\n",
        "  #request the url and convert into soup object\n",
        "  req = requests.get(url)\n",
        "  soup = BeautifulSoup(req.text,'html')\n",
        "\n",
        "  # price\n",
        "\n",
        "  p_tag = soup.find_all('div',attrs={'data-type' : 'price-link'})\n",
        "  for p in p_tag:\n",
        "    price.append(p.text.strip())\n",
        "\n",
        "\n",
        "  # number of bhk\n",
        "  prop=soup.find_all('a',attrs={'class':'typelink','target':'_blank'})\n",
        "  for b in prop:\n",
        "    n_bhk.append(b.span.text.strip())\n",
        "  \n",
        "  # area in sqft\n",
        "  a_tag = soup.find_all('td', attrs ={'class':'size'})\n",
        "  for a in a_tag:\n",
        "    area.append(a.text.strip())\n",
        " \n",
        "  # locality\n",
        "  l_tag=soup.find_all('a',attrs={'class':'loclink'})\n",
        "  for l in l_tag:\n",
        "    loc.append(l.text.strip())\n",
        "\n",
        "  # price_per_sqft\n",
        "  rate_tag=soup.find_all('td',attrs={'class':'lbl rate'})\n",
        "  rate=[r.text.strip() for r in rate_tag]\n",
        "  for rt in rate:\n",
        "    rate_info.append(rt)\n",
        "\n",
        "  status_tag=soup.find_all('td',attrs={'class':'val'})\n",
        "  for s in status_tag:\n",
        "    status.append(s.text.strip())"
      ],
      "execution_count": null,
      "outputs": [
        {
          "output_type": "stream",
          "text": [
            "Going to scrape the data from the 25 page\n"
          ],
          "name": "stdout"
        }
      ]
    },
    {
      "cell_type": "code",
      "metadata": {
        "colab": {
          "base_uri": "https://localhost:8080/"
        },
        "id": "tHLicHNgJR4J",
        "outputId": "97e83eba-9587-4869-8d10-ef4f81380078"
      },
      "source": [
        "prop_info = {'Price' : price,\n",
        "            'Rate_per_sqft' : rate_info,\n",
        "            'Area' : area,\n",
        "            'Num_Bhk' : n_bhk,\n",
        "            'Locality' : loc,\n",
        "            'Status' : status}\n",
        "print(prop_info)"
      ],
      "execution_count": null,
      "outputs": [
        {
          "output_type": "stream",
          "text": [
            "{'Price': ['1.37 Cr', '56.98 L', '65.48 L', '79.63 L', '99.58 L', '25.05 L', '43.6 L', '62.5 L', '96 L', '93.25 L', '6.06 Cr', '96.22 L', '56.02 L', '1.13 Cr', '52.58 L', '62.23 L', '58.93 L', '1.23 Cr', '22.5 L', '44.33 L', '62.5 L', '1.4 Cr', '74.55 L', '4.64 Cr', '96.9 L', '56.02 L', '1.11 Cr', '74.58 L', '78.73 L', '59.38 L', '84.74 L', '49.95 L', '48.65 L', '67.5 L', '71.36 L', '5.69 Cr', '70.65 L', '43.17 L', '92.62 L', '47 L', '38.5 L', '75 L', '1.56 Cr', '4.5 Cr', '60 L', '6.1 Cr', '1.15 Cr', '56 L', '50 L', '62.37 L', '2.3 Cr', '2.3 Cr', '96 L', '35 L', '76 L', '2 Cr', '1.25 Cr', '2.35 Cr', '1.45 Cr', '86.8 L', '58 L', '26 L', '1 Cr', '70 L', '83 L', '34.81 L', '1.39 Cr', '98 L', '67 L', '55 L', '59 L', '1 Cr', '38 L', '1.85 Cr', '41.91 L', '75 L', '40 L', '57.88 L', '60 L', '46 L', '1.25 Cr', '1 Cr', '50.98 L', '1.3 Cr', '99 L', '65 L', '1 Cr', '1.15 Cr', '45 L', '34 L', '87 L', '8.07 L', '1.5 Cr', '89 L', '25 L', '31.5 L', '1.25 Cr', '5.9 Cr', '1.3 Cr', '42 L', '1.28 Cr', '2.07 Cr', '1.17 Cr', '1 Cr', '35 L', '58 L', '69.25 L', '76.12 L', '86.8 L', '35 L', '1.74 Cr', '84 L', '41.25 L', '38.75 L', '33.75 L', '31.25 L', '33.75 L', '33.75 L', '31.25 L', '41.25 L', '31.25 L', '41.25 L', '39.75 L', '41.25 L', '38.75 L', '33.5 L', '20 L', '59.25 L', '70 L', '1.2 Cr', '85 L', '54.06 L', '33 L', '31.25 L', '70 L', '41.25 L', '54.06 L', '38.75 L', '45 L', '52.67 L', '1.15 Cr', '1.17 Cr', '1.1 Cr', '39.54 L', '39.6 L', '33.52 L', '2 Cr', '39.2 L', '35 L', '1.05 Cr', '68 L', '1.29 Cr', '1.6 Cr', '66.6 L', '2.35 Cr', '62 L', '90 L', '99 L', '1.8 Cr', '20 L', '24.5 L', '20 L', '42 L', '8.25 L', '1.31 Cr', '40 L', '42 L', '25 L', '24 L', '57 L', '87 L', '1 Cr', '3.5 Cr', '40 L', '27.5 L', '72 L', '4.5 Cr', '38.7 L', '23 L', '42 L', '24.24 L', '3.5 Cr', '56 L', '24.2 L', '90 L', '24.5 L', '40 L', '47.23 L', '1 Cr', '33.5 L', '1.06 Cr', '48 L', '1.8 Cr', '36.14 L', '20 L', '72 L', '38 L', '1.23 Cr', '1.16 Cr', '40 L', '36.13 L', '1.3 Cr', '1.3 Cr', '1.15 Cr', '2.9 Cr', '1.45 Cr', '28.04 L', '52.7 L', '42.5 L', '52.7 L', '42.5 L', '42.5 L', '56.1 L', '42.5 L', '19 L', '52.7 L', '56.1 L', '56.1 L', '52.7 L', '45.9 L', '45.9 L', '42.5 L', '56.1 L', '56.1 L', '54.06 L', '51 L', '2.8 Cr', '60 L', '57 L', '58 L', '16 L', '2.8 Cr', '2 Cr', '19 L', '36.13 L', '66 L', '1.1 Cr', '72 L', '84 L', '62 L', '72 L', '84 L', '62 L', '60 L', '2.15 Cr', '89 L', '27 L', '75 L', '42 L', '25 L', '80 L', '32 L', '61 L', '62 L', '1 Cr', '42.5 L', '20 L', '29.04 L', '40 L', '25 L', '30 L', '77 L', '1.45 Cr', '72.09 L', '1.35 Cr', '52 L', '43 L', '49 L', '49 L', '49 L', '20 L', '20 L', '20 L', '2.45 Cr', '1.75 Cr', '1.75 Cr', '49 L', '49 L', '49 L', '49 L', '49.95 L', '45 L', '1.09 Cr', '94.11 L', '82 L', '82 L', '82 L', '82 L', '82 L', '82 L', '20 L', '20 L', '20 L', '20 L', '20 L', '20 L', '40 L', '40 L', '40 L', '40 L', '40 L', '20 L', '20 L', '20 L', '40 L', '82 L', '20 L', '20 L', '20 L', '20 L', '20 L', '20 L', '33 L', '79 L', '56 L', '2.9 Cr', '85 L', '1 Cr', '56 L', '1.5 Cr', '1.5 Cr', '1.5 Cr', '1.5 Cr', '1.5 Cr', '1.5 Cr', '1.5 Cr', '1.5 Cr', '1.5 Cr', '1.5 Cr', '1.5 Cr', '1.5 Cr', '1.5 Cr', '1.05 Cr', '1.5 Cr', '1.62 Cr', '1.5 Cr', '1.5 Cr', '1.5 Cr', '1.5 Cr', '1.5 Cr', '1.62 Cr', '1.5 Cr', '1.5 Cr', '1.5 Cr', '1.5 Cr', '1.62 Cr', '1.05 Cr', '1.05 Cr', '47.6 L', '1.5 Cr', '1.5 Cr', '1.5 Cr', '43.4 L', '1.67 Cr', '1.5 Cr', '1.5 Cr', '1.5 Cr', '1.5 Cr', '1.35 Cr', '1.5 Cr', '1.5 Cr', '1.5 Cr', '1.5 Cr', '1.5 Cr', '1.5 Cr', '1.5 Cr', '1.5 Cr', '1.5 Cr', '1.5 Cr', '1.05 Cr', '1.05 Cr', '2.4 Cr', '2.4 Cr', '20 L', '3 Cr', '60 L', '36 L', '2.4 Cr', '2.4 Cr', '2.4 Cr', '2.4 Cr', '2.4 Cr', '2.4 Cr', '36 L', '8.25 L', '31.94 L', '20.9 L', '20.9 L', '20.9 L', '20.9 L', '20.9 L', '20.9 L', '20.9 L', '52 L', '1.6 Cr', '25 L', '77.99 L', '77.99 L', '39 L', '77.99 L', '39 L', '25 L', '1.6 Cr', '52 L', '34 L', '34 L', '34 L', '34 L', '34 L', '34 L', '34 L', '34 L', '34 L', '34 L', '43 L', '43 L', '43 L', '77.99 L', '77.99 L', '70 L', '43 L', '1.8 Cr', '1.8 Cr', '77.99 L', '77.99 L', '43 L', '34 L', '34 L', '34 L', '34 L', '34 L', '34 L', '34 L', '34 L', '34 L', '34 L', '43 L', '43 L', '42 L', '42 L', '1.8 Cr', '77.99 L', '77.99 L', '7 L', '7 L', '7 L', '46.87 L', '2.95 Cr', '2.95 Cr', '2.95 Cr', '2.95 Cr', '2.95 Cr', '2.95 Cr', '2.95 Cr', '2.95 Cr', '2.95 Cr', '2.95 Cr', '70 L', '70 L', '70 L', '2.95 Cr', '2.95 Cr', '2.95 Cr', '2.95 Cr', '76.8 L', '76.8 L', '76.8 L', '76.8 L', '76.8 L', '76.8 L', '76.8 L', '76.8 L', '76.8 L', '76.8 L', '76.8 L', '76.8 L', '76.8 L', '76.8 L', '76.8 L', '76.8 L', '35 L', '35 L', '46.87 L', '46.87 L', '56.87 L', '56.87 L', '1.5 Cr', '20 L', '46.87 L', '56.87 L', '56.87 L', '46.87 L', '46.87 L', '46.87 L', '35 L', '46.87 L', '56.87 L', '72 L', '72 L', '1.85 Cr'], 'Rate_per_sqft': ['5,400 / sq ft', '4,400 / sq ft', '4,999 / sq ft', '4,999 / sq ft', '6,595 / sq ft', '1,667 / sq ft', '4,899 / sq ft', '5,000 / sq ft', '8,184 / sq ft', '5,700 / sq ft', '17,000 / sq ft', '6,800 / sq ft', '4,500 / sq ft', '5,400 / sq ft', '4,400 / sq ft', '4,999 / sq ft', '4,999 / sq ft', '6,595 / sq ft', '1,667 / sq ft', '4,899 / sq ft', '5,000 / sq ft', '7,878 / sq ft', '5,700 / sq ft', '16,000 / sq ft', '6,800 / sq ft', '4,500 / sq ft', '5,400 / sq ft', '4,400 / sq ft', '4,999 / sq ft', '4,999 / sq ft', '6,595 / sq ft', '1,667 / sq ft', '5,149 / sq ft', '5,000 / sq ft', '5,700 / sq ft', '16,000 / sq ft', '4,500 / sq ft', '3,000 / sq ft', '5,800 / sq ft', '4,476 / sq ft', '3,208 / sq ft', '4,990 / sq ft', '6,000 / sq ft', '6,617 / sq ft', '6,000 / sq ft', '17,428 / sq ft', '4,600 / sq ft', '5,308 / sq ft', '2,474 / sq ft', '6,085 / sq ft', '8,795 / sq ft', '7,421 / sq ft', '5,783 / sq ft', '2,873 / sq ft', '4,691 / sq ft', '4,807 / sq ft', '6,297 / sq ft', '11,750 / sq ft', '4,677 / sq ft', '5,600 / sq ft', '4,461 / sq ft', '2,363 / sq ft', '6,779 / sq ft', '5,039 / sq ft', '7,094 / sq ft', '2,699 / sq ft', '6,177 / sq ft', '4,780 / sq ft', '6,068 / sq ft', '5,238 / sq ft', '3,277 / sq ft', '6,024 / sq ft', '3,721 / sq ft', '7,551 / sq ft', '3,300 / sq ft', '4,120 / sq ft', '3,636 / sq ft', '402 / sq ft', '4,615 / sq ft', '3,724 / sq ft', '6,249 / sq ft', '2,857 / sq ft', '4,461 / sq ft', '4,727 / sq ft', '6,111 / sq ft', '4,234 / sq ft', '6,060 / sq ft', '6,388 / sq ft', '4,090 / sq ft', '1,888 / sq ft', '7,073 / sq ft', '597 / sq ft', '4,950 / sq ft', '4,045 / sq ft', '1,377 / sq ft', '2,520 / sq ft', '6,944 / sq ft', '10,172 / sq ft', '9,122 / sq ft', '3,756 / sq ft', '5,800 / sq ft', '5,800 / sq ft', '5,500 / sq ft', '4,700 / sq ft', '2,991 / sq ft', '4,703 / sq ft', '6,021 / sq ft', '5,970 / sq ft', '5,600 / sq ft', '3,500 / sq ft', '5,400 / sq ft', '5,401 / sq ft', '2,500 / sq ft', '2,500 / sq ft', '2,500 / sq ft', '2,500 / sq ft', '2,500 / sq ft', '2,500 / sq ft', '2,500 / sq ft', '2,500 / sq ft', '2,500 / sq ft', '2,500 / sq ft', '2,500 / sq ft', '2,500 / sq ft', '2,500 / sq ft', '2,481 / sq ft', '1,111 / sq ft', '3,699 / sq ft', '6,822 / sq ft', '8,219 / sq ft', '6,071 / sq ft', '3,400 / sq ft', '2,444 / sq ft', '2,500 / sq ft', '5,600 / sq ft', '2,500 / sq ft', '3,400 / sq ft', '2,500 / sq ft', '3,333 / sq ft', '4,214 / sq ft', '4,259 / sq ft', '6,602 / sq ft', '5,612 / sq ft', '2,594 / sq ft', '2,598 / sq ft', '2,598 / sq ft', '7,017 / sq ft', '1,555 / sq ft', '2,356 / sq ft', '7,118 / sq ft', '7,555 / sq ft', '10,750 / sq ft', '4,444 / sq ft', '4,000 / sq ft', '6,351 / sq ft', '2,580 / sq ft', '5,980 / sq ft', '5,351 / sq ft', '8,089 / sq ft', '1,687 / sq ft', '3,769 / sq ft', '1,687 / sq ft', '2,333 / sq ft', '611 / sq ft', '5,998 / sq ft', '5,194 / sq ft', '4,666 / sq ft', '2,272 / sq ft', '884 / sq ft', '3,166 / sq ft', '5,800 / sq ft', '8,663 / sq ft', '6,603 / sq ft', '734 / sq ft', '2,500 / sq ft', '6,343 / sq ft', '12,857 / sq ft', '3,000 / sq ft', '1,277 / sq ft', '1,555 / sq ft', '2,203 / sq ft', '7,685 / sq ft', '4,469 / sq ft', '2,200 / sq ft', '7,518 / sq ft', '1,633 / sq ft', '1,777 / sq ft', '2,999 / sq ft', '6,172 / sq ft', '3,190 / sq ft', '8,480 / sq ft', '3,840 / sq ft', '9,399 / sq ft', '2,999 / sq ft', '1,481 / sq ft', '2,000 / sq ft', '3,619 / sq ft', '7,387 / sq ft', '6,966 / sq ft', '4,278 / sq ft', '2,999 / sq ft', '7,291 / sq ft', '2,363 / sq ft', '6,699 / sq ft', '8,285 / sq ft', '7,458 / sq ft', '2,077 / sq ft', '3,400 / sq ft', '3,400 / sq ft', '3,400 / sq ft', '3,400 / sq ft', '3,400 / sq ft', '3,400 / sq ft', '3,400 / sq ft', '1,225 / sq ft', '3,400 / sq ft', '3,400 / sq ft', '3,400 / sq ft', '3,400 / sq ft', '3,400 / sq ft', '3,400 / sq ft', '3,400 / sq ft', '3,400 / sq ft', '3,400 / sq ft', '3,400 / sq ft', '3,187 / sq ft', '8,000 / sq ft', '4,800 / sq ft', '5,700 / sq ft', '4,833 / sq ft', '888 / sq ft', '8,588 / sq ft', '8,080 / sq ft', '1,055 / sq ft', '2,999 / sq ft', '4,492 / sq ft', '6,666 / sq ft', '4,519 / sq ft', '5,675 / sq ft', '5,904 / sq ft', '4,519 / sq ft', '5,675 / sq ft', '5,904 / sq ft', '5,893 / sq ft', '9,772 / sq ft', '6,137 / sq ft', '1,500 / sq ft', '6,000 / sq ft', '2,333 / sq ft', '1,851 / sq ft', '6,153 / sq ft', '2,735 / sq ft', '6,069 / sq ft', '5,688 / sq ft', '5,780 / sq ft', '3,400 / sq ft', '833 / sq ft', '968 / sq ft', '2,222 / sq ft', '1,851 / sq ft', '2,727 / sq ft', '5,500 / sq ft', '6,558 / sq ft', '3,003 / sq ft', '7,714 / sq ft', '5,777 / sq ft', '3,568 / sq ft', '4,286 / sq ft', '4,286 / sq ft', '4,286 / sq ft', '2,162 / sq ft', '2,162 / sq ft', '2,162 / sq ft', '7,424 / sq ft', '5,147 / sq ft', '5,147 / sq ft', '4,286 / sq ft', '4,286 / sq ft', '4,286 / sq ft', '4,286 / sq ft', '3,000 / sq ft', '5,467 / sq ft', '6,900 / sq ft', '6,600 / sq ft', '5,448 / sq ft', '5,448 / sq ft', '5,448 / sq ft', '5,448 / sq ft', '5,448 / sq ft', '5,448 / sq ft', '1,818 / sq ft', '1,818 / sq ft', '1,818 / sq ft', '1,818 / sq ft', '1,818 / sq ft', '1,818 / sq ft', '2,222 / sq ft', '2,222 / sq ft', '2,222 / sq ft', '2,222 / sq ft', '2,222 / sq ft', '1,818 / sq ft', '1,818 / sq ft', '1,818 / sq ft', '2,222 / sq ft', '5,448 / sq ft', '1,818 / sq ft', '1,818 / sq ft', '1,818 / sq ft', '1,818 / sq ft', '1,818 / sq ft', '1,818 / sq ft', '2,588 / sq ft', '5,302 / sq ft', '3,393 / sq ft', '10,665 / sq ft', '5,666 / sq ft', '4,545 / sq ft', '3,111 / sq ft', '7,500 / sq ft', '16,666 / sq ft', '16,666 / sq ft', '7,500 / sq ft', '7,500 / sq ft', '7,500 / sq ft', '7,500 / sq ft', '7,500 / sq ft', '7,500 / sq ft', '7,500 / sq ft', '7,500 / sq ft', '7,500 / sq ft', '7,500 / sq ft', '4,038 / sq ft', '7,500 / sq ft', '5,004 / sq ft', '7,500 / sq ft', '7,500 / sq ft', '7,500 / sq ft', '7,500 / sq ft', '7,500 / sq ft', '5,004 / sq ft', '7,500 / sq ft', '7,500 / sq ft', '7,500 / sq ft', '7,500 / sq ft', '5,004 / sq ft', '4,038 / sq ft', '4,038 / sq ft', '3,500 / sq ft', '16,666 / sq ft', '16,666 / sq ft', '16,666 / sq ft', '3,500 / sq ft', '6,007 / sq ft', '16,666 / sq ft', '16,666 / sq ft', '7,500 / sq ft', '7,500 / sq ft', '5,625 / sq ft', '7,500 / sq ft', '7,500 / sq ft', '7,500 / sq ft', '7,500 / sq ft', '7,500 / sq ft', '7,500 / sq ft', '7,500 / sq ft', '7,500 / sq ft', '7,500 / sq ft', '7,500 / sq ft', '4,038 / sq ft', '4,038 / sq ft', '8,000 / sq ft', '8,000 / sq ft', '1,612 / sq ft', '8,108 / sq ft', '4,938 / sq ft', '3,272 / sq ft', '8,000 / sq ft', '8,000 / sq ft', '8,000 / sq ft', '8,000 / sq ft', '8,000 / sq ft', '8,000 / sq ft', '2,000 / sq ft', '611 / sq ft', '3,900 / sq ft', '2,200 / sq ft', '2,200 / sq ft', '2,200 / sq ft', '2,200 / sq ft', '2,200 / sq ft', '2,200 / sq ft', '2,200 / sq ft', '5,388 / sq ft', '5,333 / sq ft', '2,118 / sq ft', '4,333 / sq ft', '4,333 / sq ft', '3,627 / sq ft', '4,333 / sq ft', '3,627 / sq ft', '2,118 / sq ft', '5,333 / sq ft', '5,388 / sq ft', '4,000 / sq ft', '4,000 / sq ft', '4,000 / sq ft', '4,000 / sq ft', '4,000 / sq ft', '4,000 / sq ft', '4,000 / sq ft', '4,000 / sq ft', '4,000 / sq ft', '4,000 / sq ft', '3,583 / sq ft', '3,583 / sq ft', '3,583 / sq ft', '4,333 / sq ft', '4,333 / sq ft', '5,384 / sq ft', '3,583 / sq ft', '5,806 / sq ft', '5,806 / sq ft', '4,333 / sq ft', '4,333 / sq ft', '3,583 / sq ft', '4,000 / sq ft', '4,000 / sq ft', '4,000 / sq ft', '4,000 / sq ft', '4,000 / sq ft', '4,000 / sq ft', '4,000 / sq ft', '4,000 / sq ft', '4,000 / sq ft', '4,000 / sq ft', '3,583 / sq ft', '3,583 / sq ft', '3,500 / sq ft', '3,500 / sq ft', '5,806 / sq ft', '4,333 / sq ft', '4,333 / sq ft', '777 / sq ft', '777 / sq ft', '777 / sq ft', '3,873 / sq ft', '9,833 / sq ft', '9,833 / sq ft', '9,833 / sq ft', '9,833 / sq ft', '11,800 / sq ft', '9,833 / sq ft', '9,833 / sq ft', '9,833 / sq ft', '9,833 / sq ft', '9,833 / sq ft', '4,713 / sq ft', '4,713 / sq ft', '4,713 / sq ft', '9,833 / sq ft', '11,800 / sq ft', '9,833 / sq ft', '9,833 / sq ft', '3,555 / sq ft', '3,555 / sq ft', '3,555 / sq ft', '3,555 / sq ft', '3,555 / sq ft', '3,555 / sq ft', '3,555 / sq ft', '3,555 / sq ft', '3,555 / sq ft', '3,555 / sq ft', '3,555 / sq ft', '3,555 / sq ft', '3,555 / sq ft', '3,555 / sq ft', '3,555 / sq ft', '3,555 / sq ft', '2,916 / sq ft', '2,916 / sq ft', '3,873 / sq ft', '3,873 / sq ft', '4,700 / sq ft', '4,700 / sq ft', '8,108 / sq ft', '1,923 / sq ft', '3,873 / sq ft', '4,700 / sq ft', '4,700 / sq ft', '3,873 / sq ft', '3,873 / sq ft', '3,873 / sq ft', '2,916 / sq ft', '3,873 / sq ft', '4,700 / sq ft', '4,502 / sq ft', '4,502 / sq ft', '10,277 / sq ft'], 'Area': ['2545', '1295', '1310', '1593', '1510', '1503', '890', '1250', '1173', '1636', '3567', '1415', '1245', '2105', '1195', '1245', '1179', '1875', '1350', '905', '1250', '1777', '1308', '2900', '1425', '1245', '2070', '1695', '1575', '1188', '1285', '2997', '945', '1350', '1252', '3560', '1570', '1439', '1597', '1050', '1200', '1503', '2600', '6800', '1000', '3500', '2500', '1055', '2021', '1025', '2615', '3099', '1660', '1218', '1620', '4160', '1985', '2000', '3100', '1550', '1300', '1100', '1475', '1389', '1170', '1290', '2250', '2050', '1104', '1050', '1800', '1660', '1021', '2450', '1270', '1820', '1100', '14400', '1300', '1235', '2008', '3500', '1143', '2750', '1620', '1535', '1650', '1800', '1100', '1800', '1230', '1350', '3030', '2200', '1815', '1250', '1800', '5800', '1425', '1118', '2208', '3569', '2132', '2132', '1170', '1233', '1150', '1275', '1550', '1000', '3234', '1555', '1650', '1550', '1350', '1250', '1350', '1350', '1250', '1650', '1250', '1650', '1590', '1650', '1550', '1350', '1800', '1602', '1026', '1460', '1400', '1590', '1350', '1250', '1250', '1650', '1590', '1550', '1350', '1250', '2700', '1772', '1960', '1524', '1524', '1290', '2850', '2520', '1485', '1475', '900', '1200', '3600', '1665', '3700', '2403', '1505', '1850', '2225', '1185', '650', '1185', '1800', '1350', '2184', '770', '900', '1100', '2714', '1800', '1500', '1160', '5300', '5445', '1100', '1135', '3500', '1290', '1800', '2700', '1100', '4554', '1253', '1100', '1197', '1500', '2250', '1575', '1620', '1050', '1250', '1250', '1915', '1205', '1350', '3600', '1050', '1665', '1665', '935', '1205', '1783', '5500', '1730', '3500', '1944', '1350', '1550', '1250', '1550', '1250', '1250', '1650', '1250', '1550', '1550', '1650', '1650', '1550', '1350', '1350', '1250', '1650', '1650', '1590', '1600', '3500', '1250', '1000', '1200', '1800', '3260', '2475', '1800', '1205', '1469', '1650', '1593', '1480', '1050', '1593', '1480', '1050', '1018', '2200', '1450', '1800', '1250', '1800', '1350', '1300', '1170', '1005', '1090', '1730', '1250', '2400', '3000', '1800', '1350', '1100', '1400', '2211', '2400', '1750', '900', '1205', '1143', '1143', '1143', '925', '925', '925', '3300', '3400', '3400', '1143', '1143', '1143', '1143', '1665', '823', '1592', '1426', '1505', '1505', '1505', '1505', '1505', '1505', '1100', '1100', '1100', '1100', '1100', '1100', '1800', '1800', '1800', '1800', '1800', '1100', '1100', '1100', '1800', '1505', '1100', '1100', '1100', '1100', '1100', '1100', '1275', '1490', '1650', '2719', '1500', '2200', '1800', '2000', '900', '900', '2000', '2000', '2000', '2000', '2000', '2000', '2000', '2000', '2000', '2000', '2600', '2000', '3237', '2000', '2000', '2000', '2000', '2000', '3237', '2000', '2000', '2000', '2000', '3237', '2600', '2600', '1360', '900', '900', '900', '1240', '2780', '900', '900', '2000', '2000', '2400', '2000', '2000', '2000', '2000', '2000', '2000', '2000', '2000', '2000', '2000', '2600', '2600', '3000', '3000', '1240', '3700', '1215', '1100', '3000', '3000', '3000', '3000', '3000', '3000', '1800', '1350', '819', '950', '950', '950', '950', '950', '950', '950', '965', '3000', '1180', '1800', '1800', '1075', '1800', '1075', '1180', '3000', '965', '850', '850', '850', '850', '850', '850', '850', '850', '850', '850', '1200', '1200', '1200', '1800', '1800', '1300', '1200', '3100', '3100', '1800', '1800', '1200', '850', '850', '850', '850', '850', '850', '850', '850', '850', '850', '1200', '1200', '1200', '1200', '3100', '1800', '1800', '900', '900', '900', '1210', '3000', '3000', '3000', '3000', '2500', '3000', '3000', '3000', '3000', '3000', '1485', '1485', '1485', '3000', '2500', '3000', '3000', '2160', '2160', '2160', '2160', '2160', '2160', '2160', '2160', '2160', '2160', '2160', '2160', '2160', '2160', '2160', '2160', '1200', '1200', '1210', '1210', '1210', '1210', '1850', '1040', '1210', '1210', '1210', '1210', '1210', '1210', '1200', '1210', '1210', '1599', '1599', '1800'], 'Num_Bhk': ['3', '2', '2', '3', '3', 'Residential Plot', '2', '2', '2', '3', '4', '3', '2', '3', '2', '2', '2', '3', 'Residential Plot', '2', '2', '3', '2', '3', '3', '2', '3', '3', '3', '2', '2', 'Residential Plot', '2', '3', '2', '4', '3', '2', '3', '2', '2', '2', '5', '7', '2', '4', '4', '2', '2', '3', '4', '3', '3', '2', '3', '8', '3', '2', '2', '3', '2', '2', '3', '2', '2', '2', '4', '3', '2', '2', '3', '2', '2', '4', '2', '3', '3', 'Residential Plot', '2', '3', '3', '4', '2', '5', '3', '3', '3', '2', '2', 'Residential Plot', '2', 'Residential Plot', '2', '4', 'Residential Plot', '2', '3', '4', '3', '2', '3', '3', '3', '3', '2', '2', '3', '3', '3', '2', '4', '3', '3', '3', '3', '2', '3', '3', '2', '3', '2', '3', '3', '3', '3', '3', 'Residential Plot', '2', '2', '3', '3', '3', '3', '2', '2', '3', '2', '3', '3', '2', '5', '3', '3', '3', '3', '2', '4', 'Residential Plot', 'Residential Plot', '3', '2', '4', '3', '3', '6', 'Residential Plot', '3', '3', '3', '2', '2', '2', 'Residential Plot', 'Residential Plot', '3', '2', '2', '2', 'Residential Plot', 'Residential Plot', '3', '2', '6', 'Residential Plot', '2', '3', '4', '2', 'Residential Plot', 'Residential Plot', '2', '3', '2', '2', '2', 'Residential Plot', 'Residential Plot', '3', '3', '2', '4', '2', '3', '2', 'Residential Plot', 'Residential Plot', '2', '3', '3', '2', '2', '3', '10', '3', '4', 'Residential Plot', 'Residential Plot', '3', '2', '3', '2', '2', '3', '2', '2', '2', '3', '3', '3', '3', '3', '2', '3', '3', '3', '3', '4', '3', '2', '3', 'Residential Plot', '4', '2', 'Residential Plot', '2', '3', '3', '3', '3', '2', '3', '3', '2', '2', '5', '3', 'Residential Plot', '2', 'Residential Plot', 'Residential Plot', '4', '2', '2', '2', '3', '2', 'Residential Plot', 'Residential Plot', 'Residential Plot', 'Residential Plot', '2', '3', '3', 'Residential Plot', '1', 'Residential Plot', '2', '2', '2', '2', '2', '2', '2', '4', '4', '4', '2', '2', '2', '2', '3', '2', '3', '2', '3', '3', '3', '3', '3', '3', '2', '2', '2', '2', '2', '2', '2', '2', '2', '2', '2', '2', '2', '2', '2', '3', '2', '2', '2', '2', '2', '2', '2', '3', '2', '3', '3', '4', '2', '3', '2', '2', '3', '3', '3', '3', '3', '3', '3', '3', '3', '3', '3', '3', '3', '3', '3', '3', '3', '3', '3', '3', '3', '3', '3', '3', '3', '3', '3', '2', '2', '2', '3', '4', '2', '2', '3', '3', '3', '3', '3', '3', '3', '3', '3', '3', '3', '3', '3', '3', '3', '4', '4', '2', '4', '2', '2', '4', '4', '4', '4', '4', '4', 'Residential Plot', 'Residential Plot', '2', '2', '2', '2', '2', '2', '2', '2', '2', '4', '2', '4', '4', '2', '4', '2', '2', '4', '2', '2', '2', '2', '2', '2', '2', '2', '2', '2', '2', '2', '2', '2', '4', '4', '2', '2', '4', '4', '4', '4', '2', '2', '2', '2', '2', '2', '2', '2', '2', '2', '2', '2', '2', '2', '2', '4', '4', '4', 'Residential Plot', 'Residential Plot', 'Residential Plot', '2', '5', '5', '5', '5', '5', '5', '5', '5', '5', '5', '4', '4', '4', '5', '5', '5', '5', 'Residential Plot', 'Residential Plot', 'Residential Plot', 'Residential Plot', 'Residential Plot', 'Residential Plot', 'Residential Plot', 'Residential Plot', 'Residential Plot', 'Residential Plot', 'Residential Plot', 'Residential Plot', 'Residential Plot', 'Residential Plot', 'Residential Plot', 'Residential Plot', '2', '2', '2', '2', '2', '2', '3', '2', '2', '2', '2', '2', '2', '2', '2', '2', '2', '3', '3', '2'], 'Locality': ['Yapral, Hyderabad', 'Bachupally, Hyderabad', 'Kompally, Hyderabad', 'Mallampet, Hyderabad', 'Narsingi, Hyderabad', 'Thimmapur, Hyderabad', 'Shamshabad, Hyderabad', 'Sangareddy, Hyderabad', 'Attapur, Hyderabad', 'Manikonda, Hyderabad', 'Narsingi, Hyderabad', 'Nanakramguda, Hyderabad', 'Ghatkesar, Hyderabad', 'Yapral, Hyderabad', 'Bachupally, Hyderabad', 'Kompally, Hyderabad', 'Mallampet, Hyderabad', 'Narsingi, Hyderabad', 'Thimmapur, Hyderabad', 'Shamshabad, Hyderabad', 'Sangareddy, Hyderabad', 'Attapur, Hyderabad', 'Manikonda, Hyderabad', 'Narsingi, Hyderabad', 'Nanakramguda, Hyderabad', 'Ghatkesar, Hyderabad', 'Yapral, Hyderabad', 'Bachupally, Hyderabad', 'Kompally, Hyderabad', 'Mallampet, Hyderabad', 'Narsingi, Hyderabad', 'Thimmapur, Hyderabad', 'Shamshabad, Hyderabad', 'Sangareddy, Hyderabad', 'Manikonda, Hyderabad', 'Narsingi, Hyderabad', 'Ghatkesar, Hyderabad', 'Patancheru, Hyderabad', 'Tellapur, Hyderabad', 'Nacharam, Hyderabad', 'Kompally, Hyderabad', 'Malkajgiri, Hyderabad', 'Mokila, Hyderabad', 'Kukatpally, Hyderabad', 'Kukatpally, Hyderabad', 'Sainikpuri, Hyderabad', 'Kapra, Hyderabad', 'Medchal, Hyderabad', 'Chandanagar, Hyderabad', 'Aushapur, Hyderabad', 'Mahendra Hills, Hyderabad', 'Kondapur, Hyderabad', 'Bandlaguda Jagir, Hyderabad', 'Abdullapurmet, Hyderabad', 'Attapur, Hyderabad', 'Sanjeeva Reddy Nagar, Hyderabad', 'Amberpet, Hyderabad', 'Dilsukh Nagar, Hyderabad', 'Munganoor, Hyderabad', 'Mehdipatnam, Hyderabad', 'Kushaiguda, Hyderabad', 'Bhanur, Hyderabad', 'Amberpet, Hyderabad', 'Rampally, Hyderabad', 'Puppalaguda, Hyderabad', 'Kompally, Hyderabad', 'Hyderabad Shah Guda, Hyderabad', 'Sainikpuri, Hyderabad', 'Miyapur, Hyderabad', '6th Phase KPHB, Hyderabad', 'TurkaYamjal, Hyderabad', 'Nagaram, Hyderabad', 'Chandanagar, Hyderabad', 'Pragathi Nagar Kukatpally, Hyderabad', 'Kompally, Hyderabad', 'Manikonda, Hyderabad', 'Begumpet, Hyderabad', 'Yacharam, Hyderabad', 'Manikonda, Hyderabad', 'Bandlaguda Jagir, Hyderabad', 'Patancheru, Hyderabad', 'Mokila, Hyderabad', 'Narapally, Hyderabad', 'Banjara Hills, Hyderabad', 'Gajulramaram Kukatpally, Hyderabad', 'Tarnaka, Hyderabad', 'Neredmet, Hyderabad', 'AS Rao Nagar, Hyderabad', 'Santoshnagar, Hyderabad', 'Taramatipet, Hyderabad', 'Kukatpally, Hyderabad', 'Sadashivpet, Hyderabad', 'Erragadda, Hyderabad', 'Patancheru, Hyderabad', 'Shankarpalli, Hyderabad', 'Gachibowli, Hyderabad', 'Whitefield, Hyderabad', 'Kompally, Hyderabad', 'Manikonda, Hyderabad', 'Nizampet, Hyderabad', 'Tellapur, Hyderabad', 'Tellapur, Hyderabad', 'Tellapur, Hyderabad', 'Tellapur, Hyderabad', 'Kollur, Hyderabad', 'Gajularamaram, Hyderabad', 'Aushapur, Hyderabad', 'Aushapur, Hyderabad', 'Mehdipatnam, Hyderabad', 'Kompally, Hyderabad', 'Mokila, Hyderabad', 'Bandlaguda Jagir, Hyderabad', 'Gachibowli, Hyderabad', 'BHEL, Hyderabad', 'Kollur, Hyderabad', 'Kollur, Hyderabad', 'BHEL, Hyderabad', 'Kollur, Hyderabad', 'BHEL, Hyderabad', 'Gachibowli, Hyderabad', 'BHEL, Hyderabad', 'Gachibowli, Hyderabad', 'Kokapet, Hyderabad', 'Kokapet, Hyderabad', 'BHEL, Hyderabad', 'Kollur, Hyderabad', 'Mucherla, Hyderabad', 'Kadthal, Hyderabad', 'Padmarao Nagar, Hyderabad', 'Amberpet, Hyderabad', 'Puppalaguda, Hyderabad', 'BHEL, Hyderabad', 'BHEL, Hyderabad', 'Kokapet, Hyderabad', 'Vanasthalipuram, Hyderabad', 'Gachibowli, Hyderabad', 'Kollur, Hyderabad', 'Gachibowli, Hyderabad', 'Kokapet, Hyderabad', 'BHEL, Hyderabad', 'Karwan, Hyderabad', 'Banjara Hills, Hyderabad', 'Kokapet, Hyderabad', 'Kompally, Hyderabad', 'Kompally, Hyderabad', 'Kompally, Hyderabad', 'Kavadiguda, Hyderabad', 'Maheshwaram, Hyderabad', 'Patancheru, Hyderabad', 'Amberpet, Hyderabad', 'Tatianaram, Hyderabad', 'Mallampet, Hyderabad', 'Bolarum, Hyderabad', 'Kollur, Hyderabad', 'Miyapur, Hyderabad', 'Jai Suryapatnam, Hyderabad', 'Kismatpur, Hyderabad', 'Bollaram, Hyderabad', 'Kukatpally, Hyderabad', 'Shamirpet, Hyderabad', 'Banjara Hills, Hyderabad', 'Shamirpet, Hyderabad', 'Pocharam Near Muthangi, Hyderabad', 'Wangapalli, Hyderabad', 'Pasumamula, Hyderabad', 'AS Rao Nagar, Hyderabad', 'Kothapet, Hyderabad', 'Isnapur, Hyderabad', 'Shankarpally Road, Hyderabad', 'Bhanur, Hyderabad', 'Appa Junction Peerancheru, Hyderabad', 'Hitech City, Hyderabad', 'Dilsukh Nagar, Hyderabad', 'Turkapally, Hyderabad', 'Bhanur, Hyderabad', 'Moti Nagar, Hyderabad', 'Madhapur, Hyderabad', 'Kompally, Hyderabad', 'Alair, Hyderabad', 'Kothur, Hyderabad', 'Rudraram, Hyderabad', 'Bandlaguda Jagir, Hyderabad', 'Nacharam, Hyderabad', 'Rudraram, Hyderabad', 'Shamshabad, Hyderabad', 'Bhuvanagiri, Hyderabad', 'Jai Suryapatnam, Hyderabad', 'Kollur, Hyderabad', 'Gajulramaram Kukatpally, Hyderabad', 'Pragathi Nagar Kukatpally, Hyderabad', 'Krishna Reddy Pet, Hyderabad', 'Kollur, Hyderabad', 'Himayat Nagar, Hyderabad', 'Boduppal, Hyderabad', 'Bibinagar, Hyderabad', 'Ameerpet, Hyderabad', 'Bapu Nagar, Hyderabad', 'Chandanagar, Hyderabad', 'Chandanagar, Hyderabad', 'Amberpet, Hyderabad', 'Boduppal, Hyderabad', 'Tellapur, Hyderabad', 'Balapur, Hyderabad', 'Manikonda, Hyderabad', 'Mokila, Hyderabad', 'Mansoorabad, Hyderabad', 'Ibrahimpatnam, Hyderabad', 'Tellapur, Hyderabad', 'Tellapur, Hyderabad', 'Tellapur, Hyderabad', 'Tellapur, Hyderabad', 'Tellapur, Hyderabad', 'Tellapur, Hyderabad', 'Tellapur, Hyderabad', 'Tellapur, Hyderabad', 'Tellapur, Hyderabad', 'Tellapur, Hyderabad', 'Tellapur, Hyderabad', 'Tellapur, Hyderabad', 'Tellapur, Hyderabad', 'Tellapur, Hyderabad', 'Tellapur, Hyderabad', 'Tellapur, Hyderabad', 'Tellapur, Hyderabad', 'Tellapur, Hyderabad', 'Narapally, Hyderabad', 'Mokila, Hyderabad', 'Nizampet, Hyderabad', 'Uppal, Hyderabad', 'Toli Chowki, Hyderabad', 'Mirkhanpet, Hyderabad', 'Hitech City, Hyderabad', 'Kothapet, Hyderabad', 'Kadthal, Hyderabad', 'Boduppal, Hyderabad', 'Jam Bagh, Hyderabad', 'Jam Bagh, Hyderabad', 'Jam Bagh, Hyderabad', 'Nagole, Hyderabad', 'Chandanagar, Hyderabad', 'Jam Bagh, Hyderabad', 'Nagole, Hyderabad', 'Chandanagar, Hyderabad', 'Bowenpally, Hyderabad', 'Rasoolpura, Hyderabad', 'Kondapur, Hyderabad', 'Shankarpally Road, Hyderabad', 'Manikonda, Hyderabad', 'Adibatla, Hyderabad', 'Kothur, Hyderabad', 'Ghatkesar, Hyderabad', 'Kollur, Hyderabad', 'Chandanagar, Hyderabad', 'Ramgopalpet, Hyderabad', 'Somajiguda, Hyderabad', 'Madhapur, Hyderabad', 'Kadthal, Hyderabad', 'Shankarpally Road, Hyderabad', 'Thimmapur, Hyderabad', 'Patancheru, Hyderabad', 'Shamirpet, Hyderabad', 'Old Bowenpally, Hyderabad', 'Hanamkonda, Hyderabad', 'Medchal, Hyderabad', 'Narapally, Hyderabad', 'Boduppal, Hyderabad', 'Madhapur, Hyderabad', 'Boduppal, Hyderabad', 'Boduppal, Hyderabad', 'Boduppal, Hyderabad', 'Isnapur, Hyderabad', 'Isnapur, Hyderabad', 'Isnapur, Hyderabad', 'Bandlaguda Jagir, Hyderabad', 'Tellapur, Hyderabad', 'Tellapur, Hyderabad', 'Boduppal, Hyderabad', 'Boduppal, Hyderabad', 'Boduppal, Hyderabad', 'Boduppal, Hyderabad', 'Kompally, Hyderabad', 'Kukatpally, Hyderabad', 'Kukatpally, Hyderabad', 'Kukatpally, Hyderabad', 'Chandanagar, Hyderabad', 'Chandanagar, Hyderabad', 'Chandanagar, Hyderabad', 'Chandanagar, Hyderabad', 'Chandanagar, Hyderabad', 'Chandanagar, Hyderabad', 'Velimela, Hyderabad', 'Velimela, Hyderabad', 'Velimela, Hyderabad', 'Velimela, Hyderabad', 'Velimela, Hyderabad', 'Velimela, Hyderabad', 'Kothur, Hyderabad', 'Kothur, Hyderabad', 'Kothur, Hyderabad', 'Kothur, Hyderabad', 'Kothur, Hyderabad', 'Velimela, Hyderabad', 'Velimela, Hyderabad', 'Velimela, Hyderabad', 'Kothur, Hyderabad', 'Chandanagar, Hyderabad', 'Velimela, Hyderabad', 'Velimela, Hyderabad', 'Velimela, Hyderabad', 'Velimela, Hyderabad', 'Velimela, Hyderabad', 'Velimela, Hyderabad', 'Bachupally, Hyderabad', 'Gowlidody, Hyderabad', 'Medchal, Hyderabad', 'Nagole, Hyderabad', 'LB Nagar, Hyderabad', 'Chengicherla, Hyderabad', 'Medchal, Hyderabad', 'Sainikpuri, Hyderabad', 'Mallapur, Hyderabad', 'Mallapur, Hyderabad', 'Sainikpuri, Hyderabad', 'Sainikpuri, Hyderabad', 'Sainikpuri, Hyderabad', 'Sainikpuri, Hyderabad', 'Sainikpuri, Hyderabad', 'Sainikpuri, Hyderabad', 'Sainikpuri, Hyderabad', 'Sainikpuri, Hyderabad', 'Sainikpuri, Hyderabad', 'Sainikpuri, Hyderabad', 'Mokila, Hyderabad', 'Sainikpuri, Hyderabad', 'Mokila, Hyderabad', 'Sainikpuri, Hyderabad', 'Sainikpuri, Hyderabad', 'Sainikpuri, Hyderabad', 'Sainikpuri, Hyderabad', 'Sainikpuri, Hyderabad', 'Mokila, Hyderabad', 'Sainikpuri, Hyderabad', 'Sainikpuri, Hyderabad', 'Sainikpuri, Hyderabad', 'Sainikpuri, Hyderabad', 'Mokila, Hyderabad', 'Mokila, Hyderabad', 'Mokila, Hyderabad', 'Miyapur, Hyderabad', 'Mallapur, Hyderabad', 'Mallapur, Hyderabad', 'Mallapur, Hyderabad', 'Miyapur, Hyderabad', 'Boduppal, Hyderabad', 'Mallapur, Hyderabad', 'Mallapur, Hyderabad', 'Sainikpuri, Hyderabad', 'Sainikpuri, Hyderabad', 'Sainikpuri, Hyderabad', 'Sainikpuri, Hyderabad', 'Sainikpuri, Hyderabad', 'Sainikpuri, Hyderabad', 'Sainikpuri, Hyderabad', 'Sainikpuri, Hyderabad', 'Sainikpuri, Hyderabad', 'Sainikpuri, Hyderabad', 'Sainikpuri, Hyderabad', 'Sainikpuri, Hyderabad', 'Sainikpuri, Hyderabad', 'Mokila, Hyderabad', 'Mokila, Hyderabad', 'Bachupally, Hyderabad', 'Bachupally, Hyderabad', 'Isnapur, Hyderabad', 'Kompally, Hyderabad', 'Rampally, Hyderabad', 'Nizampet, Hyderabad', 'Bachupally, Hyderabad', 'Bachupally, Hyderabad', 'Bachupally, Hyderabad', 'Bachupally, Hyderabad', 'Bachupally, Hyderabad', 'Bachupally, Hyderabad', 'Shamirpet, Hyderabad', 'Yadagirigutta, Hyderabad', 'Nizampet, Hyderabad', 'Isnapur, Hyderabad', 'Isnapur, Hyderabad', 'Isnapur, Hyderabad', 'Isnapur, Hyderabad', 'Isnapur, Hyderabad', 'Isnapur, Hyderabad', 'Isnapur, Hyderabad', 'Bandlaguda Jagir, Hyderabad', 'Nallakunta, Hyderabad', 'Isnapur, Hyderabad', 'Patancheru, Hyderabad', 'Patancheru, Hyderabad', 'Nizampet, Hyderabad', 'Patancheru, Hyderabad', 'Nizampet, Hyderabad', 'Isnapur, Hyderabad', 'Nallakunta, Hyderabad', 'Bandlaguda Jagir, Hyderabad', 'Miyapur, Hyderabad', 'Miyapur, Hyderabad', 'Miyapur, Hyderabad', 'Miyapur, Hyderabad', 'Miyapur, Hyderabad', 'Miyapur, Hyderabad', 'Miyapur, Hyderabad', 'Miyapur, Hyderabad', 'Miyapur, Hyderabad', 'Miyapur, Hyderabad', 'Chandanagar, Hyderabad', 'Chandanagar, Hyderabad', 'Chandanagar, Hyderabad', 'Patancheru, Hyderabad', 'Patancheru, Hyderabad', 'Kompally, Hyderabad', 'Chandanagar, Hyderabad', 'Sainikpuri, Hyderabad', 'Sainikpuri, Hyderabad', 'Patancheru, Hyderabad', 'Patancheru, Hyderabad', 'Chandanagar, Hyderabad', 'Miyapur, Hyderabad', 'Miyapur, Hyderabad', 'Miyapur, Hyderabad', 'Miyapur, Hyderabad', 'Miyapur, Hyderabad', 'Miyapur, Hyderabad', 'Miyapur, Hyderabad', 'Miyapur, Hyderabad', 'Miyapur, Hyderabad', 'Miyapur, Hyderabad', 'Chandanagar, Hyderabad', 'Chandanagar, Hyderabad', 'Pragathi Nagar Kukatpally, Hyderabad', 'Pragathi Nagar Kukatpally, Hyderabad', 'Sainikpuri, Hyderabad', 'Patancheru, Hyderabad', 'Patancheru, Hyderabad', 'Shadnagar, Hyderabad', 'Shadnagar, Hyderabad', 'Shadnagar, Hyderabad', 'Miyapur, Hyderabad', 'Sainikpuri, Hyderabad', 'Sainikpuri, Hyderabad', 'Sainikpuri, Hyderabad', 'Sainikpuri, Hyderabad', 'Sainikpuri, Hyderabad', 'Sainikpuri, Hyderabad', 'Sainikpuri, Hyderabad', 'Sainikpuri, Hyderabad', 'Sainikpuri, Hyderabad', 'Sainikpuri, Hyderabad', 'Balapur, Hyderabad', 'Balapur, Hyderabad', 'Balapur, Hyderabad', 'Sainikpuri, Hyderabad', 'Sainikpuri, Hyderabad', 'Sainikpuri, Hyderabad', 'Sainikpuri, Hyderabad', 'Basuragadi Village, Hyderabad', 'Basuragadi Village, Hyderabad', 'Basuragadi Village, Hyderabad', 'Basuragadi Village, Hyderabad', 'Basuragadi Village, Hyderabad', 'Basuragadi Village, Hyderabad', 'Basuragadi Village, Hyderabad', 'Basuragadi Village, Hyderabad', 'Basuragadi Village, Hyderabad', 'Basuragadi Village, Hyderabad', 'Basuragadi Village, Hyderabad', 'Basuragadi Village, Hyderabad', 'Basuragadi Village, Hyderabad', 'Basuragadi Village, Hyderabad', 'Basuragadi Village, Hyderabad', 'Basuragadi Village, Hyderabad', 'Rajendra Nagar, Hyderabad', 'Rajendra Nagar, Hyderabad', 'Miyapur, Hyderabad', 'Miyapur, Hyderabad', 'Miyapur, Hyderabad', 'Miyapur, Hyderabad', 'Himayat Nagar, Hyderabad', 'Shamirpet, Hyderabad', 'Miyapur, Hyderabad', 'Miyapur, Hyderabad', 'Miyapur, Hyderabad', 'Miyapur, Hyderabad', 'Miyapur, Hyderabad', 'Miyapur, Hyderabad', 'Rajendra Nagar, Hyderabad', 'Miyapur, Hyderabad', 'Miyapur, Hyderabad', 'Pragathi Nagar Kukatpally, Hyderabad', 'Pragathi Nagar Kukatpally, Hyderabad', 'Malakpet, Hyderabad'], 'Status': ['Under Construction', 'Under Construction', 'Under Construction', 'Under Construction', 'Under Construction', 'New', 'Under Construction', 'Under Construction', 'Under Construction', 'Ready to move', 'Under Construction', 'Ready to move', 'Under Construction', 'Under Construction', 'Under Construction', 'Under Construction', 'Under Construction', 'Under Construction', 'New', 'Under Construction', 'Under Construction', 'Under Construction', 'Ready to move', 'Under Construction', 'Ready to move', 'Under Construction', 'Under Construction', 'Under Construction', 'Under Construction', 'Under Construction', 'Under Construction', 'New', 'Under Construction', 'Under Construction', 'Ready to move', 'Under Construction', 'Under Construction', 'Ready to move', 'Under Construction', 'Ready to move', 'Under Construction', 'Ready to move', 'Under Construction', 'Ready to move', 'Ready to move', 'Ready to move', 'Ready to move', 'Ready to move', 'Under Construction', 'Under Construction', 'Ready to move', 'Ready to move', 'Ready to move', 'Under Construction', 'Ready to move', 'Ready to move', 'Ready to move', 'Ready to move', 'Under Construction', 'Ready to move', 'Ready to move', 'Under Construction', 'Ready to move', 'Ready to move', 'Ready to move', 'Ready to move', 'Ready to move', 'Ready to move', 'Ready to move', 'Ready to move', 'Under Construction', 'Ready to move', 'Under Construction', 'Ready to move', 'Under Construction', 'Ready to move', 'Ready to move', 'Resale', 'Ready to move', 'Ready to move', 'Under Construction', 'Under Construction', 'Ready to move', 'Ready to move', 'Ready to move', 'Ready to move', 'Ready to move', 'Ready to move', 'Ready to move', 'Resale', 'Ready to move', 'Resale', 'Ready to move', 'Ready to move', 'Resale', 'Under Construction', 'Ready to move', 'Ready to move', 'Ready to move', 'Ready to move', 'Under Construction', 'Under Construction', 'Under Construction', 'Under Construction', 'Under Construction', 'Under Construction', 'Under Construction', 'Under Construction', 'Ready to move', 'Under Construction', 'Under Construction', 'Ready to move', 'Under Construction', 'Under Construction', 'Under Construction', 'Under Construction', 'Under Construction', 'Under Construction', 'Under Construction', 'Under Construction', 'Under Construction', 'Under Construction', 'Under Construction', 'Under Construction', 'Under Construction', 'Under Construction', 'Resale', 'Under Construction', 'Ready to move', 'Ready to move', 'Ready to move', 'Under Construction', 'Under Construction', 'Under Construction', 'Ready to move', 'Under Construction', 'Under Construction', 'Under Construction', 'Under Construction', 'Under Construction', 'Ready to move', 'Ready to move', 'Under Construction', 'Under Construction', 'Under Construction', 'Under Construction', 'Ready to move', 'Resale', 'Resale', 'Ready to move', 'Ready to move', 'Ready to move', 'Ready to move', 'Under Construction', 'Ready to move', 'Resale', 'Ready to move', 'Under Construction', 'Ready to move', 'Under Construction', 'Ready to move', 'Under Construction', 'Resale', 'Resale', 'Under Construction', 'Under Construction', 'Ready to move', 'Ready to move', 'Resale', 'Resale', 'Ready to move', 'Under Construction', 'Ready to move', 'Resale', 'Under Construction', 'Ready to move', 'Ready to move', 'Under Construction', 'Resale', 'Resale', 'Under Construction', 'Ready to move', 'Under Construction', 'Under Construction', 'Ready to move', 'Resale', 'Resale', 'Under Construction', 'Ready to move', 'Ready to move', 'Under Construction', 'Under Construction', 'Under Construction', 'Under Construction', 'Resale', 'Resale', 'Ready to move', 'Ready to move', 'Ready to move', 'Ready to move', 'Under Construction', 'Under Construction', 'Ready to move', 'Ready to move', 'Under Construction', 'Resale', 'Resale', 'Under Construction', 'Under Construction', 'Under Construction', 'Under Construction', 'Under Construction', 'Under Construction', 'Under Construction', 'Under Construction', 'Under Construction', 'Under Construction', 'Under Construction', 'Under Construction', 'Under Construction', 'Under Construction', 'Under Construction', 'Under Construction', 'Under Construction', 'Under Construction', 'Under Construction', 'Under Construction', 'Ready to move', 'Under Construction', 'Ready to move', 'Resale', 'Ready to move', 'Under Construction', 'Resale', 'Under Construction', 'Ready to move', 'Ready to move', 'Ready to move', 'Ready to move', 'Ready to move', 'Ready to move', 'Ready to move', 'Ready to move', 'Under Construction', 'Ready to move', 'Ready to move', 'Resale', 'Ready to move', 'Resale', 'Resale', 'Ready to move', 'Ready to move', 'Ready to move', 'Ready to move', 'Ready to move', 'Under Construction', 'Resale', 'Resale', 'Resale', 'Resale', 'Under Construction', 'Ready to move', 'Under Construction', 'Resale', 'Ready to move', 'Resale', 'Under Construction', 'Ready to move', 'Ready to move', 'Ready to move', 'Under Construction', 'Under Construction', 'Under Construction', 'Ready to move', 'Under Construction', 'Under Construction', 'Ready to move', 'Ready to move', 'Ready to move', 'Ready to move', 'Under Construction', 'Ready to move', 'Ready to move', 'Under Construction', 'Ready to move', 'Ready to move', 'Ready to move', 'Ready to move', 'Ready to move', 'Ready to move', 'Under Construction', 'Under Construction', 'Under Construction', 'Under Construction', 'Under Construction', 'Under Construction', 'Ready to move', 'Ready to move', 'Ready to move', 'Ready to move', 'Ready to move', 'Under Construction', 'Under Construction', 'Under Construction', 'Ready to move', 'Ready to move', 'Under Construction', 'Under Construction', 'Under Construction', 'Under Construction', 'Under Construction', 'Under Construction', 'Under Construction', 'Ready to move', 'Under Construction', 'Ready to move', 'Ready to move', 'Ready to move', 'Under Construction', 'Under Construction', 'Ready to move', 'Ready to move', 'Under Construction', 'Under Construction', 'Under Construction', 'Under Construction', 'Under Construction', 'Under Construction', 'Under Construction', 'Under Construction', 'Under Construction', 'Under Construction', 'Under Construction', 'Under Construction', 'Under Construction', 'Under Construction', 'Under Construction', 'Under Construction', 'Under Construction', 'Under Construction', 'Under Construction', 'Under Construction', 'Under Construction', 'Under Construction', 'Under Construction', 'Under Construction', 'Under Construction', 'Under Construction', 'Under Construction', 'Ready to move', 'Ready to move', 'Ready to move', 'Under Construction', 'Under Construction', 'Ready to move', 'Ready to move', 'Under Construction', 'Under Construction', 'Under Construction', 'Under Construction', 'Under Construction', 'Under Construction', 'Under Construction', 'Under Construction', 'Under Construction', 'Under Construction', 'Under Construction', 'Under Construction', 'Under Construction', 'Under Construction', 'Under Construction', 'Under Construction', 'Under Construction', 'Under Construction', 'Ready to move', 'Ready to move', 'Ready to move', 'Under Construction', 'Under Construction', 'Under Construction', 'Under Construction', 'Under Construction', 'Under Construction', 'Resale', 'Resale', 'Under Construction', 'Under Construction', 'Under Construction', 'Under Construction', 'Under Construction', 'Under Construction', 'Under Construction', 'Under Construction', 'Under Construction', 'Ready to move', 'Under Construction', 'Under Construction', 'Under Construction', 'Ready to move', 'Under Construction', 'Ready to move', 'Under Construction', 'Ready to move', 'Under Construction', 'Under Construction', 'Under Construction', 'Under Construction', 'Under Construction', 'Under Construction', 'Under Construction', 'Under Construction', 'Under Construction', 'Under Construction', 'Under Construction', 'Under Construction', 'Under Construction', 'Under Construction', 'Under Construction', 'Under Construction', 'Ready to move', 'Under Construction', 'Under Construction', 'Under Construction', 'Under Construction', 'Under Construction', 'Under Construction', 'Under Construction', 'Under Construction', 'Under Construction', 'Under Construction', 'Under Construction', 'Under Construction', 'Under Construction', 'Under Construction', 'Under Construction', 'Under Construction', 'Under Construction', 'Under Construction', 'Under Construction', 'Under Construction', 'Under Construction', 'Under Construction', 'Under Construction', 'Resale', 'Resale', 'Resale', 'Under Construction', 'Ready to move', 'Ready to move', 'Ready to move', 'Ready to move', 'Ready to move', 'Ready to move', 'Ready to move', 'Ready to move', 'Ready to move', 'Ready to move', 'Ready to move', 'Ready to move', 'Ready to move', 'Ready to move', 'Ready to move', 'Ready to move', 'Ready to move', 'Resale', 'Resale', 'Resale', 'Resale', 'Resale', 'Resale', 'Resale', 'Resale', 'Resale', 'Resale', 'Resale', 'Resale', 'Resale', 'Resale', 'Resale', 'Resale', 'Under Construction', 'Under Construction', 'Under Construction', 'Under Construction', 'Under Construction', 'Under Construction', 'Ready to move', 'Under Construction', 'Under Construction', 'Under Construction', 'Under Construction', 'Under Construction', 'Under Construction', 'Under Construction', 'Under Construction', 'Under Construction', 'Under Construction', 'Under Construction', 'Under Construction', 'Ready to move']}\n"
          ],
          "name": "stdout"
        }
      ]
    },
    {
      "cell_type": "code",
      "metadata": {
        "id": "mlxauvrfJR8C"
      },
      "source": [
        "import pandas as pd\n",
        "data = pd.DataFrame(prop_info)"
      ],
      "execution_count": null,
      "outputs": []
    },
    {
      "cell_type": "code",
      "metadata": {
        "colab": {
          "base_uri": "https://localhost:8080/",
          "height": 417
        },
        "id": "wtx6OM6TJR-j",
        "outputId": "a91a2047-6d42-4586-98f6-274bed0f91cb"
      },
      "source": [
        "data"
      ],
      "execution_count": null,
      "outputs": [
        {
          "output_type": "execute_result",
          "data": {
            "text/html": [
              "<div>\n",
              "<style scoped>\n",
              "    .dataframe tbody tr th:only-of-type {\n",
              "        vertical-align: middle;\n",
              "    }\n",
              "\n",
              "    .dataframe tbody tr th {\n",
              "        vertical-align: top;\n",
              "    }\n",
              "\n",
              "    .dataframe thead th {\n",
              "        text-align: right;\n",
              "    }\n",
              "</style>\n",
              "<table border=\"1\" class=\"dataframe\">\n",
              "  <thead>\n",
              "    <tr style=\"text-align: right;\">\n",
              "      <th></th>\n",
              "      <th>Price</th>\n",
              "      <th>Rate_per_sqft</th>\n",
              "      <th>Area</th>\n",
              "      <th>Num_Bhk</th>\n",
              "      <th>Locality</th>\n",
              "      <th>Status</th>\n",
              "    </tr>\n",
              "  </thead>\n",
              "  <tbody>\n",
              "    <tr>\n",
              "      <th>0</th>\n",
              "      <td>1.37 Cr</td>\n",
              "      <td>5,400 / sq ft</td>\n",
              "      <td>2545</td>\n",
              "      <td>3</td>\n",
              "      <td>Yapral, Hyderabad</td>\n",
              "      <td>Under Construction</td>\n",
              "    </tr>\n",
              "    <tr>\n",
              "      <th>1</th>\n",
              "      <td>56.98 L</td>\n",
              "      <td>4,400 / sq ft</td>\n",
              "      <td>1295</td>\n",
              "      <td>2</td>\n",
              "      <td>Bachupally, Hyderabad</td>\n",
              "      <td>Under Construction</td>\n",
              "    </tr>\n",
              "    <tr>\n",
              "      <th>2</th>\n",
              "      <td>65.48 L</td>\n",
              "      <td>4,999 / sq ft</td>\n",
              "      <td>1310</td>\n",
              "      <td>2</td>\n",
              "      <td>Kompally, Hyderabad</td>\n",
              "      <td>Under Construction</td>\n",
              "    </tr>\n",
              "    <tr>\n",
              "      <th>3</th>\n",
              "      <td>79.63 L</td>\n",
              "      <td>4,999 / sq ft</td>\n",
              "      <td>1593</td>\n",
              "      <td>3</td>\n",
              "      <td>Mallampet, Hyderabad</td>\n",
              "      <td>Under Construction</td>\n",
              "    </tr>\n",
              "    <tr>\n",
              "      <th>4</th>\n",
              "      <td>99.58 L</td>\n",
              "      <td>6,595 / sq ft</td>\n",
              "      <td>1510</td>\n",
              "      <td>3</td>\n",
              "      <td>Narsingi, Hyderabad</td>\n",
              "      <td>Under Construction</td>\n",
              "    </tr>\n",
              "    <tr>\n",
              "      <th>...</th>\n",
              "      <td>...</td>\n",
              "      <td>...</td>\n",
              "      <td>...</td>\n",
              "      <td>...</td>\n",
              "      <td>...</td>\n",
              "      <td>...</td>\n",
              "    </tr>\n",
              "    <tr>\n",
              "      <th>495</th>\n",
              "      <td>46.87 L</td>\n",
              "      <td>3,873 / sq ft</td>\n",
              "      <td>1210</td>\n",
              "      <td>2</td>\n",
              "      <td>Miyapur, Hyderabad</td>\n",
              "      <td>Under Construction</td>\n",
              "    </tr>\n",
              "    <tr>\n",
              "      <th>496</th>\n",
              "      <td>56.87 L</td>\n",
              "      <td>4,700 / sq ft</td>\n",
              "      <td>1210</td>\n",
              "      <td>2</td>\n",
              "      <td>Miyapur, Hyderabad</td>\n",
              "      <td>Under Construction</td>\n",
              "    </tr>\n",
              "    <tr>\n",
              "      <th>497</th>\n",
              "      <td>72 L</td>\n",
              "      <td>4,502 / sq ft</td>\n",
              "      <td>1599</td>\n",
              "      <td>3</td>\n",
              "      <td>Pragathi Nagar Kukatpally, Hyderabad</td>\n",
              "      <td>Under Construction</td>\n",
              "    </tr>\n",
              "    <tr>\n",
              "      <th>498</th>\n",
              "      <td>72 L</td>\n",
              "      <td>4,502 / sq ft</td>\n",
              "      <td>1599</td>\n",
              "      <td>3</td>\n",
              "      <td>Pragathi Nagar Kukatpally, Hyderabad</td>\n",
              "      <td>Under Construction</td>\n",
              "    </tr>\n",
              "    <tr>\n",
              "      <th>499</th>\n",
              "      <td>1.85 Cr</td>\n",
              "      <td>10,277 / sq ft</td>\n",
              "      <td>1800</td>\n",
              "      <td>2</td>\n",
              "      <td>Malakpet, Hyderabad</td>\n",
              "      <td>Ready to move</td>\n",
              "    </tr>\n",
              "  </tbody>\n",
              "</table>\n",
              "<p>500 rows × 6 columns</p>\n",
              "</div>"
            ],
            "text/plain": [
              "       Price  ...              Status\n",
              "0    1.37 Cr  ...  Under Construction\n",
              "1    56.98 L  ...  Under Construction\n",
              "2    65.48 L  ...  Under Construction\n",
              "3    79.63 L  ...  Under Construction\n",
              "4    99.58 L  ...  Under Construction\n",
              "..       ...  ...                 ...\n",
              "495  46.87 L  ...  Under Construction\n",
              "496  56.87 L  ...  Under Construction\n",
              "497     72 L  ...  Under Construction\n",
              "498     72 L  ...  Under Construction\n",
              "499  1.85 Cr  ...       Ready to move\n",
              "\n",
              "[500 rows x 6 columns]"
            ]
          },
          "metadata": {},
          "execution_count": 68
        }
      ]
    },
    {
      "cell_type": "code",
      "metadata": {
        "id": "E3sb7s81Ka_u"
      },
      "source": [
        "data.to_csv('hyd_properties.csv')"
      ],
      "execution_count": null,
      "outputs": []
    },
    {
      "cell_type": "code",
      "metadata": {
        "id": "_PfGFYDwM9Fq"
      },
      "source": [
        ""
      ],
      "execution_count": null,
      "outputs": []
    },
    {
      "cell_type": "code",
      "metadata": {
        "id": "3c0oKjR4Njm_"
      },
      "source": [
        ""
      ],
      "execution_count": null,
      "outputs": []
    },
    {
      "cell_type": "code",
      "metadata": {
        "id": "0YK_CaaONjqT"
      },
      "source": [
        "base_url = 'https://www.makaan.com/hyderabad-residential-property/buy-property-in-hyderabad-city?page='"
      ],
      "execution_count": null,
      "outputs": []
    },
    {
      "cell_type": "code",
      "metadata": {
        "id": "uJ7Yz6WVNjx4"
      },
      "source": [
        "url = 'https://www.makaan.com/hyderabad-residential-property/buy-property-in-hyderabad-city'"
      ],
      "execution_count": null,
      "outputs": []
    },
    {
      "cell_type": "code",
      "metadata": {
        "colab": {
          "base_uri": "https://localhost:8080/"
        },
        "id": "avL-3TmWNj3V",
        "outputId": "b0e53dc0-0160-48ae-e96b-3e410c4856d6"
      },
      "source": [
        "requests.get(url)"
      ],
      "execution_count": null,
      "outputs": [
        {
          "output_type": "execute_result",
          "data": {
            "text/plain": [
              "<Response [200]>"
            ]
          },
          "metadata": {},
          "execution_count": 70
        }
      ]
    },
    {
      "cell_type": "code",
      "metadata": {
        "id": "xA8xuO3HNj83"
      },
      "source": [
        ""
      ],
      "execution_count": null,
      "outputs": []
    },
    {
      "cell_type": "code",
      "metadata": {
        "id": "ZoDhHmPeORFh",
        "colab": {
          "base_uri": "https://localhost:8080/",
          "height": 337
        },
        "outputId": "bb0ba7e8-b5cf-4b7d-b030-63b2094cfed0"
      },
      "source": [
        "import pandas as pd\n",
        "\n",
        "dct = {'Name' : ['A','B','C','D'],\n",
        "       'Marks' : [55,56,78]}\n",
        "\n",
        "pd.DataFrame(dct)"
      ],
      "execution_count": 3,
      "outputs": [
        {
          "output_type": "error",
          "ename": "ValueError",
          "evalue": "ignored",
          "traceback": [
            "\u001b[0;31m---------------------------------------------------------------------------\u001b[0m",
            "\u001b[0;31mValueError\u001b[0m                                Traceback (most recent call last)",
            "\u001b[0;32m<ipython-input-3-4f51bacd1da8>\u001b[0m in \u001b[0;36m<module>\u001b[0;34m()\u001b[0m\n\u001b[1;32m      4\u001b[0m        'Marks' : [55,56,78]}\n\u001b[1;32m      5\u001b[0m \u001b[0;34m\u001b[0m\u001b[0m\n\u001b[0;32m----> 6\u001b[0;31m \u001b[0mpd\u001b[0m\u001b[0;34m.\u001b[0m\u001b[0mDataFrame\u001b[0m\u001b[0;34m(\u001b[0m\u001b[0mdct\u001b[0m\u001b[0;34m)\u001b[0m\u001b[0;34m\u001b[0m\u001b[0;34m\u001b[0m\u001b[0m\n\u001b[0m",
            "\u001b[0;32m/usr/local/lib/python3.7/dist-packages/pandas/core/frame.py\u001b[0m in \u001b[0;36m__init__\u001b[0;34m(self, data, index, columns, dtype, copy)\u001b[0m\n\u001b[1;32m    466\u001b[0m \u001b[0;34m\u001b[0m\u001b[0m\n\u001b[1;32m    467\u001b[0m         \u001b[0;32melif\u001b[0m \u001b[0misinstance\u001b[0m\u001b[0;34m(\u001b[0m\u001b[0mdata\u001b[0m\u001b[0;34m,\u001b[0m \u001b[0mdict\u001b[0m\u001b[0;34m)\u001b[0m\u001b[0;34m:\u001b[0m\u001b[0;34m\u001b[0m\u001b[0;34m\u001b[0m\u001b[0m\n\u001b[0;32m--> 468\u001b[0;31m             \u001b[0mmgr\u001b[0m \u001b[0;34m=\u001b[0m \u001b[0minit_dict\u001b[0m\u001b[0;34m(\u001b[0m\u001b[0mdata\u001b[0m\u001b[0;34m,\u001b[0m \u001b[0mindex\u001b[0m\u001b[0;34m,\u001b[0m \u001b[0mcolumns\u001b[0m\u001b[0;34m,\u001b[0m \u001b[0mdtype\u001b[0m\u001b[0;34m=\u001b[0m\u001b[0mdtype\u001b[0m\u001b[0;34m)\u001b[0m\u001b[0;34m\u001b[0m\u001b[0;34m\u001b[0m\u001b[0m\n\u001b[0m\u001b[1;32m    469\u001b[0m         \u001b[0;32melif\u001b[0m \u001b[0misinstance\u001b[0m\u001b[0;34m(\u001b[0m\u001b[0mdata\u001b[0m\u001b[0;34m,\u001b[0m \u001b[0mma\u001b[0m\u001b[0;34m.\u001b[0m\u001b[0mMaskedArray\u001b[0m\u001b[0;34m)\u001b[0m\u001b[0;34m:\u001b[0m\u001b[0;34m\u001b[0m\u001b[0;34m\u001b[0m\u001b[0m\n\u001b[1;32m    470\u001b[0m             \u001b[0;32mimport\u001b[0m \u001b[0mnumpy\u001b[0m\u001b[0;34m.\u001b[0m\u001b[0mma\u001b[0m\u001b[0;34m.\u001b[0m\u001b[0mmrecords\u001b[0m \u001b[0;32mas\u001b[0m \u001b[0mmrecords\u001b[0m\u001b[0;34m\u001b[0m\u001b[0;34m\u001b[0m\u001b[0m\n",
            "\u001b[0;32m/usr/local/lib/python3.7/dist-packages/pandas/core/internals/construction.py\u001b[0m in \u001b[0;36minit_dict\u001b[0;34m(data, index, columns, dtype)\u001b[0m\n\u001b[1;32m    281\u001b[0m             \u001b[0marr\u001b[0m \u001b[0;32mif\u001b[0m \u001b[0;32mnot\u001b[0m \u001b[0mis_datetime64tz_dtype\u001b[0m\u001b[0;34m(\u001b[0m\u001b[0marr\u001b[0m\u001b[0;34m)\u001b[0m \u001b[0;32melse\u001b[0m \u001b[0marr\u001b[0m\u001b[0;34m.\u001b[0m\u001b[0mcopy\u001b[0m\u001b[0;34m(\u001b[0m\u001b[0;34m)\u001b[0m \u001b[0;32mfor\u001b[0m \u001b[0marr\u001b[0m \u001b[0;32min\u001b[0m \u001b[0marrays\u001b[0m\u001b[0;34m\u001b[0m\u001b[0;34m\u001b[0m\u001b[0m\n\u001b[1;32m    282\u001b[0m         ]\n\u001b[0;32m--> 283\u001b[0;31m     \u001b[0;32mreturn\u001b[0m \u001b[0marrays_to_mgr\u001b[0m\u001b[0;34m(\u001b[0m\u001b[0marrays\u001b[0m\u001b[0;34m,\u001b[0m \u001b[0mdata_names\u001b[0m\u001b[0;34m,\u001b[0m \u001b[0mindex\u001b[0m\u001b[0;34m,\u001b[0m \u001b[0mcolumns\u001b[0m\u001b[0;34m,\u001b[0m \u001b[0mdtype\u001b[0m\u001b[0;34m=\u001b[0m\u001b[0mdtype\u001b[0m\u001b[0;34m)\u001b[0m\u001b[0;34m\u001b[0m\u001b[0;34m\u001b[0m\u001b[0m\n\u001b[0m\u001b[1;32m    284\u001b[0m \u001b[0;34m\u001b[0m\u001b[0m\n\u001b[1;32m    285\u001b[0m \u001b[0;34m\u001b[0m\u001b[0m\n",
            "\u001b[0;32m/usr/local/lib/python3.7/dist-packages/pandas/core/internals/construction.py\u001b[0m in \u001b[0;36marrays_to_mgr\u001b[0;34m(arrays, arr_names, index, columns, dtype, verify_integrity)\u001b[0m\n\u001b[1;32m     76\u001b[0m         \u001b[0;31m# figure out the index, if necessary\u001b[0m\u001b[0;34m\u001b[0m\u001b[0;34m\u001b[0m\u001b[0;34m\u001b[0m\u001b[0m\n\u001b[1;32m     77\u001b[0m         \u001b[0;32mif\u001b[0m \u001b[0mindex\u001b[0m \u001b[0;32mis\u001b[0m \u001b[0;32mNone\u001b[0m\u001b[0;34m:\u001b[0m\u001b[0;34m\u001b[0m\u001b[0;34m\u001b[0m\u001b[0m\n\u001b[0;32m---> 78\u001b[0;31m             \u001b[0mindex\u001b[0m \u001b[0;34m=\u001b[0m \u001b[0mextract_index\u001b[0m\u001b[0;34m(\u001b[0m\u001b[0marrays\u001b[0m\u001b[0;34m)\u001b[0m\u001b[0;34m\u001b[0m\u001b[0;34m\u001b[0m\u001b[0m\n\u001b[0m\u001b[1;32m     79\u001b[0m         \u001b[0;32melse\u001b[0m\u001b[0;34m:\u001b[0m\u001b[0;34m\u001b[0m\u001b[0;34m\u001b[0m\u001b[0m\n\u001b[1;32m     80\u001b[0m             \u001b[0mindex\u001b[0m \u001b[0;34m=\u001b[0m \u001b[0mensure_index\u001b[0m\u001b[0;34m(\u001b[0m\u001b[0mindex\u001b[0m\u001b[0;34m)\u001b[0m\u001b[0;34m\u001b[0m\u001b[0;34m\u001b[0m\u001b[0m\n",
            "\u001b[0;32m/usr/local/lib/python3.7/dist-packages/pandas/core/internals/construction.py\u001b[0m in \u001b[0;36mextract_index\u001b[0;34m(data)\u001b[0m\n\u001b[1;32m    395\u001b[0m             \u001b[0mlengths\u001b[0m \u001b[0;34m=\u001b[0m \u001b[0mlist\u001b[0m\u001b[0;34m(\u001b[0m\u001b[0mset\u001b[0m\u001b[0;34m(\u001b[0m\u001b[0mraw_lengths\u001b[0m\u001b[0;34m)\u001b[0m\u001b[0;34m)\u001b[0m\u001b[0;34m\u001b[0m\u001b[0;34m\u001b[0m\u001b[0m\n\u001b[1;32m    396\u001b[0m             \u001b[0;32mif\u001b[0m \u001b[0mlen\u001b[0m\u001b[0;34m(\u001b[0m\u001b[0mlengths\u001b[0m\u001b[0;34m)\u001b[0m \u001b[0;34m>\u001b[0m \u001b[0;36m1\u001b[0m\u001b[0;34m:\u001b[0m\u001b[0;34m\u001b[0m\u001b[0;34m\u001b[0m\u001b[0m\n\u001b[0;32m--> 397\u001b[0;31m                 \u001b[0;32mraise\u001b[0m \u001b[0mValueError\u001b[0m\u001b[0;34m(\u001b[0m\u001b[0;34m\"arrays must all be same length\"\u001b[0m\u001b[0;34m)\u001b[0m\u001b[0;34m\u001b[0m\u001b[0;34m\u001b[0m\u001b[0m\n\u001b[0m\u001b[1;32m    398\u001b[0m \u001b[0;34m\u001b[0m\u001b[0m\n\u001b[1;32m    399\u001b[0m             \u001b[0;32mif\u001b[0m \u001b[0mhave_dicts\u001b[0m\u001b[0;34m:\u001b[0m\u001b[0;34m\u001b[0m\u001b[0;34m\u001b[0m\u001b[0m\n",
            "\u001b[0;31mValueError\u001b[0m: arrays must all be same length"
          ]
        }
      ]
    },
    {
      "cell_type": "code",
      "metadata": {
        "id": "qoguneL8ORLA"
      },
      "source": [
        ""
      ],
      "execution_count": null,
      "outputs": []
    },
    {
      "cell_type": "code",
      "metadata": {
        "id": "k9-JhPyWORPL"
      },
      "source": [
        ""
      ],
      "execution_count": null,
      "outputs": []
    },
    {
      "cell_type": "code",
      "metadata": {
        "id": "3Y7Yn-ywORWT"
      },
      "source": [
        ""
      ],
      "execution_count": null,
      "outputs": []
    }
  ]
}